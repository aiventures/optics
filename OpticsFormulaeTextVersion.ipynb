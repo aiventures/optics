{
 "cells": [
  {
   "cell_type": "markdown",
   "metadata": {},
   "source": [
    "# Photography Optics Collection\n",
    "This is to demonstrate / document optics_formulas module to provide common and uncommon calculation that might prove useful in Photography ...\n",
    "(c) AiVentures 2020"
   ]
  },
  {
   "cell_type": "code",
   "execution_count": null,
   "metadata": {
    "scrolled": false
   },
   "outputs": [],
   "source": [
    "# all is contained in a constants class and a class containing static methods\n",
    "from optics.optics_formulas import OpticsCalculator\n",
    "from optics.optics_formulas import OpticsConstants\n",
    "import optics\n",
    "help(OpticsCalculator)"
   ]
  },
  {
   "cell_type": "markdown",
   "metadata": {},
   "source": [
    "### Available Formulas / References\n",
    "- [(01) Sensor Specs](#01)\n",
    "* [(02) Field of View](#02)\n",
    "* [(03) Focal length $f$ and Field of View $\\alpha$ ](#03)\n",
    "    - https://de.wikipedia.org/wiki/Linsengleichung\n",
    "* [(04a) Depth of View (DOF)](#04a)\n",
    "    - https://de.wikipedia.org/wiki/Hyperfokale_Entfernung\n",
    "    - https://de.wikipedia.org/wiki/Sch%C3%A4rfentiefe\n",
    "    - https://en.wikipedia.org/wiki/Depth_of_field    \n",
    "* [(04b) Get Aperture for Depth of View (DOF)](#04b)\n",
    "    - http://www.elmar-baumann.de/fotografie/schaerfentiefe/node25.html\n",
    "* [(05) Depth of View (DOF)](#05)\n",
    "* [(06) Equivalent Focal Length after Crop was applied](#06)\n",
    "* [(07) Diffraction Disc Diameter in $\\mu m$ for given aperture number $k$ and wavelength $\\lambda \\hspace{1mm} (\\mu m)$](#07)\n",
    "    - https://en.wikipedia.org/wiki/Diffraction-limited_system#Implications_for_digital_photography\n",
    "    - https://de.wikipedia.org/wiki/Kritische_Blende\n",
    "    - https://de.wikipedia.org/wiki/Beugungsunsch%C3%A4rfe\n",
    "    - https://de.wikipedia.org/wiki/Numerische_Apertur\n",
    "* [(08) Optimum Aperture](#08)\n",
    "    - http://www.elmar-baumann.de/fotografie/rechner/rechner-foerderliche-blende.html\n",
    "    - https://www.elmar-baumann.de/fotografie/lexikon/blende-effektive.html\n",
    "    - https://www.elmar-baumann.de/fotografie/lexikon/blende-foerderliche.html\n",
    "    - https://de.wikipedia.org/wiki/Kritische_Blende\n",
    "    - https://de.wikipedia.org/wiki/Beugungsscheibchen\n",
    "    - http://foto-net.de/net/objektive/licht.html    \n",
    "* [(09) Magnification Factor (Based on lens equation)](#09)\n",
    "    - https://de.wikipedia.org/wiki/Linsengleichung\n",
    "* [(10) Optimum Aperture Pixel Pitch](#10)\n",
    "* [(11a) Exposure Value](#11a)\n",
    "    - https://de.wikipedia.org/wiki/Lichtwert\n",
    "    - https://en.wikipedia.org/wiki/Exposure_value\n",
    "    - https://www.scantips.com/lights/evchart.html\n",
    "* [(11b) Exposure Time](#11b)\n",
    "* [(11c) Exposure Aperture](#11c)\n",
    "* [(11d) Exposure Sensitivity](#11d)\n",
    "* [(12) Aperture Number Series](#12)\n",
    "* [(13) Closeup Focal Length](#13)\n",
    "    -  http://www.elmar-baumann.de/fotografie/herleitungen/herleitungen-abbildungsmasstab.html\n",
    "* [(14) Closeup Magnification at Distance](#14)\n",
    "    -  http://www.elmar-baumann.de/fotografie/herleitungen/herleitungen-abbildungsmasstab.html\n",
    "* [(15) Closeup Magnification ](#15)\n",
    "    - http://www.herbig-3d.de/german/kameraoptik.htm\n",
    "* [(16) Depth of Field DOF for Macro](#16)\n",
    "    - http://www.cambridgeincolour.com/tutorials/macro-photography-intro.htm\n",
    "    - http://www.dofmaster.com/equations.html\n",
    "    - https://en.wikipedia.org/wiki/Depth_of_field#Close-up\n",
    "* [(17) Fisheye Projection](#17)\n",
    "* [(18) Fisheye Lens Projection](#18)\n",
    "    - https://www.pt4pano.com/blog/2017/neue-fisheyes-fuer-panoramafotografie\n",
    "    - https://groups.google.com/forum/#!topic/ptgui/AwTE531o7xA  \n",
    "    - http://pt4pano.com/de/blog/samyang-f2812mm-fullframe\n",
    "    - https://www.ptgui.com/support.html#3_28\n",
    "* [(19) Cropped Resolution](#19)\n",
    "* [(20) Cropped Effective Focal Length](#20)\n",
    "* [(21) Equivalent Sensor Specs](#21)\n",
    "* [(22) Astro Photography Exposure Times and Star Speed on sensor](#22)\n",
    "    - https://astrobackyard.com/the-500-rule/\n",
    "    - https://petapixel.com/2017/04/07/npf-rule-formula-sharp-star-photos-every-time/"
   ]
  },
  {
   "cell_type": "markdown",
   "metadata": {},
   "source": [
    "### Hints / Frequently used variables\n",
    "Some variables/constants are used frequently in formulas<br>\n",
    "Usually, calculation results will be returned as dictionaries (check out the `OpticsConstants` module and its constants). Parameter `with_keys` controls, whether the calculation result comes with the original parameters (might be useful in some cases).\n",
    "The Sensor size and resolution is crucial to all calculations. Most frequently used sensors are predefined as constants, refer to the formula (01) below. "
   ]
  },
  {
   "cell_type": "markdown",
   "metadata": {},
   "source": [
    "### Abbreviations / Constants Used\n",
    "<br>\n",
    "$\n",
    "\\begin{align*}\n",
    "\\alpha&:\\text{Field of view angle } \\text{(fov)}\\\\\n",
    "f&:\\text{focal length (mm)}\\\\\n",
    "f_D&:\\text{focal length of Diopter (mm)}\\\\\n",
    "f_c&:\\text{close up focal length (mm)}\\\\\n",
    "f_{crop}&:\\text{crop effective focal length (mm)}\\\\\n",
    "f(S)_{eq}&:\\text{equivalent focal length for sensor after crop}\\\\\n",
    "f(S)_{\\text{eq_FF}}&:\\text{equivalent full frame focal length for sensor after crop}\\\\\n",
    "\\lambda&:\\text{wavelength (nm)}  \\\\\n",
    "\\lambda_0&:\\text{default wavelength (550 nm)}  \\\\\n",
    "k&:\\text{aperture number}\\\\\n",
    "k_\\mathit{eff}&:\\text{effective aperture}\\\\\n",
    "\\mathit{pp}&:pixel pitch\\\\\n",
    "m&:\\text{magnification, given as ratio } \\tiny\\frac{image \\hspace{1mm} size}{object \\hspace{1mm} size}\\\\ \n",
    "e&:\\text{tube extension}\\\\\n",
    "m_c&:\\text{close up magnification}\\\\\n",
    "m_L&:\\text{native lens magnification}\\\\\n",
    "m_e&:\\text{extension close up magnification}\\\\\n",
    "m_\\infty&:\\text{close up magnification at infinity focus}\\\\\n",
    "m_d&:\\text{close up magnification at focusing distance d}\\\\\n",
    "S&:\\text{sensor (with given specs)}\\\\\n",
    "w_S,h_S,d_S&:\\text{sensor dimensions, (eg width,height,diagonal,...)}\\\\\n",
    "h_I,h_O&:\\text{image height,object height}\\\\\n",
    "d&:\\text{diffraction disc diameter}\\\\\n",
    "d_O&:\\text{object distance}\\\\\n",
    "D&:\\text{close Up Lens Diopters $\\frac{1}{m}$}\\\\\n",
    "S_{FF}&:\\text{fullframe sensor with }w_{FF}:36mm; h_{FF}:24mm; d_{FF}:43,2mm\\\\\n",
    "C_S&:\\text{crop factor for given sensor w.r.t. full frame sensor}\\\\\n",
    "c&:\\text{crop factor for image crop}\\\\\n",
    "c_{rel}&:\\text{relative crop factor for different sensors}\\\\\n",
    "R_c&:\\text{cropped resolution of image}\\\\\n",
    "\\mathit{coc}&:\\text{circle of confusion (=sensor diagonal/1500)} \\\\\n",
    "\\mathit{d_N,d_F,d_H}&:\\text{near point, far point, hyperfocal distance} \\\\\n",
    "\\mathit{DOF}&:\\text{depth of field} \\\\\n",
    "\\mathit{DOF}_M&:\\text{depth of field for macro case} \\\\\n",
    "\\mathit{ISO}&:\\text{sensor sensitivity}\\\\\n",
    "\\mathit{MP}&:\\text{number of Sensor Pixels in Megapixel}\\\\\n",
    "\\omega_E&:\\text{Earth rotation speed (360°/day = 0,00416°/second)}  \\\\\n",
    "p_\\alpha,l_\\alpha&:\\text{pixels $\\left[\\frac{1}{deg}\\right]$ and length $\\left[\\frac{mm}{deg}\\right]$ per angle}\\\\\n",
    "v_p,v_l&:\\text{pixels $\\left[\\frac{1}{sec}\\right]$ and length $\\left[\\frac{mm}{sec}\\right]$ velocity of pixel sized object on sensor}\\\\\n",
    "\\end{align*}\n",
    "$"
   ]
  },
  {
   "cell_type": "markdown",
   "metadata": {},
   "source": [
    "<a id=\"01\"></a>\n",
    "#### (01) Sensor Specs \n",
    "```python \n",
    "get_sensor_specs(sensor_type,megapixels=None,with_keys=False)```\n",
    "For a given Sensor S and sensor resolution, calculates/retrieves sensor specs. \n",
    "Sensor specs for various sensor types are defined as constants <br>\n",
    "```python\n",
    "SENSORS = [SENSOR_FF,SENSOR_APSC,SENSOR_MFT,SENSOR_MFT32,\n",
    "           SENSOR_1_26,SENSOR_1_26_43,SENSOR_1_INCH]```\n",
    "Specs themselves are defined in variable `DIMENSIONS`. \n",
    "From this, all other relevant sensor specs can be calculated:\n",
    "```python\n",
    "DIMENSIONS = [ DIMENSION_WIDTH,DIMENSION_HEIGHT,DIMENSION_DIAGONAL,\n",
    "               DIMENSION_CROP,DIMENSION_RATIO,DIMENSION_AREA,DIMENSION_PIXEL_WIDTH,\n",
    "               DIMENSION_PIXEL_HEIGHT,DIMENSION_LP_PER_PICTURE_HEIGHT,\n",
    "               DIMENSION_LP_PER_MILIMETER, DIMENSION_PIXEL_NUM_HEIGHT,\n",
    "               DIMENSION_PIXEL_NUM_WIDTH,\n",
    "               DIMENSION_MEGAPIXEL_NUMBER ]\n",
    "```\n",
    "$\n",
    "\\begin{align*}\n",
    "&\\text{Calculations for a given Sensor with specification $S$ with $\\mathit{MP}$ megapixels}\\\\\n",
    "&\\text{Sensor dimensions width $w_S$ and height $h_S$, } \\\\\n",
    "&\\text{sensor ratio $r_S$,Sensor Area $A_S$,diagonal $d_S$,\\\\ Crop Factor $C_S$, circle of confusion $coc_S$}: \n",
    "\\\\ &w_S\n",
    ";\\hspace{1mm}h_S\n",
    ";\\hspace{1mm}r_S=w_S/h_S\n",
    ";\\hspace{1mm}A_S=w_S \\cdot h_S\n",
    ";\\hspace{1mm}d_S=\\sqrt{w_S^2+h_S^2}=w_s \\cdot \\sqrt{1+r_S^{-2}} \\\\\n",
    "&\\hspace{1mm}C_S = \\frac{d_S}{d_{FF}}\n",
    ";\\hspace{1mm}\\mathit{coc}_S=\\frac{d_S}{1500}\\\\\n",
    "&\\text{Number of pixels for width $p_w$ and height $p_h$ on sensor,} \\\\ \n",
    "&\\text{based on calculation of pixel density $\\rho_p$}:\\\\\n",
    "&\\rho_S = \\frac{\\mathit{MP}}{A_S}\n",
    "=\\frac{\\mathit{MP}}{w_S \\cdot h_S}\n",
    "=\\frac{\\mathit{MP} \\cdot r}{w_S^2}\n",
    "=\\frac{p_w \\cdot p_h \\cdot r}{w_S^2}\n",
    "=\\frac{p_w^2}{w_S^2} \\\\\n",
    "&\\Rightarrow p_w = 1000 \\times \\sqrt{\\mathit{MP}\\cdot C_S}; p_h = \\frac{p_w}{r_S}\\\\\n",
    "&\\text{Line pairs $\\mathit{lp/mm}$ per Milimeter and per picture height $\\mathit{lpph}$ }:\\\\\n",
    "&\\mathit{lp/mm} = \\frac{p_h}{2 \\cdot h_S}; \\mathit{lpph} = \\frac{p_h}{2}\\\\\n",
    "&\\text{Pixel pitch pp horizontal and vertical, both are the same}:\\\\\n",
    "&\\mathit{pp_h}=\\frac{\\mathit{w_S}}{p_w}; \\mathit{pp_v}\n",
    "=\\frac{\\mathit{h_S}}{p_h}\n",
    "=\\frac{\\mathit{w_S}}{C_S} \\cdot \\frac{\\mathit{C_S}}{p_w}\n",
    "=\\mathit{pp_h}\n",
    "\\end{align*}\n",
    "$"
   ]
  },
  {
   "cell_type": "markdown",
   "metadata": {},
   "source": [
    "<a id=\"02\"></a>\n",
    "#### (02) Field of View\n",
    "```python \n",
    "get_field_of_view(focal_length,sensor_type=OpticsConstants.SENSOR_FF,with_keys=False)```\n",
    "According to image sensor S, returns \n",
    "* field of view $\\alpha$ along sensor directions (diagonal,horizontal,vertical) $ \\hspace{1mm} \\alpha_x \n",
    "= 2 \\times \\arctan(\\frac{x}{2 \\cdot f}) \\ \\{x:d_S,w_S,h_S\\} $ \n",
    "* relative area Angle $\\large\\frac{\\Omega}{4\\pi}$ (=fraction of area angle for a sphere, 1 corresponds to sphere area angle)"
   ]
  },
  {
   "cell_type": "markdown",
   "metadata": {},
   "source": [
    "<a id=\"03\"></a>\n",
    "#### (03) Focal length $f$ and Field of View $\\alpha$ \n",
    "```python \n",
    "get_focal4distance(obj_dist,obj_height,sensor_type=OpticsConstants.SENSOR_FF,\n",
    "                   dimension=OpticsConstants.DIMENSION_WIDTH,with_keys=False)```\n",
    "For given object distance $d_O$, image height $h_I$, object height $h_O$ <br> \n",
    "and sensor dimension $d_S$ (width,height,diagonal), <br>\n",
    "focal length $f$ is calculated by \n",
    "$\\large f = \\frac{h_I \\cdot d_O}{h_I + h_O}$\n"
   ]
  },
  {
   "cell_type": "markdown",
   "metadata": {},
   "source": [
    "<a id=\"04a\"></a>\n",
    "#### (04a) Depth of View (DOF)\n",
    "```python \n",
    "get_dof(f,k,sensor_type=OpticsConstants.SENSOR_FF,distance=None,with_keys=False)```\n",
    "Depth of View Calculation (DOF) with $d_h$ Hyperfocal Distance, $d_N,d_F$ near Point and Far Point and  Depth of Field $\\mathit{DOF}$ : <br>\n",
    "$\n",
    "\\begin{align*}\n",
    "&[\\text{04.1}] \\ \\boxed{d_h = \\frac{f^2}{k \\cdot \\mathit{coc} + f}} \\\\\n",
    "&[\\text{04.2/04.3}] \\ d_N = \\frac{d_O \\cdot (d_h - f)}{(d_h - f) + (d_O - f) }; \\ \n",
    "&d_F =     \n",
    "\\begin{cases}\n",
    "       \\large\\frac{d_O \\cdot (d_h - f)}{(d_h - f) - (d_O - f) } & \\text{ for $d_O$ < $d_H$  } \\\\\n",
    "        \\infty & \\text{ for $d_O$ >= $d_H$  } \\\\\n",
    "\\end{cases} \\\\\n",
    "\\\\\n",
    "&[\\text{04.4}] \\ \\boxed{ \\mathit{DOF} = d_F - d_N }  \\\\\n",
    "\\end{align*}\n",
    "$\n",
    "\n"
   ]
  },
  {
   "cell_type": "markdown",
   "metadata": {},
   "source": [
    "<a id=\"04b\"></a>\n",
    "#### (04b) Get Aperture for Depth of View (DOF)\n",
    "```python \n",
    "get_aperture_for_dof(f,distance,dof,sensor_type=OpticsConstants.SENSOR_FF,with_keys=False)```\n",
    "Calculates required aperture for given $\\mathit{DOF}$ and aperture $k$ : <br>\n",
    "$\n",
    "\\begin{align*}\n",
    "&[\\text{04.5}] \\ k = f^2 \\cdot \\frac{\\sqrt{d_O^2+\\mathit{DOF}^2}-d_O}{\\mathit{DOF} \\cdot \\mathit{coc} \\cdot (d_O-f)} \\\\\n",
    "\\end{align*}\n",
    "$"
   ]
  },
  {
   "cell_type": "markdown",
   "metadata": {},
   "source": [
    "<a id=\"05\"></a>\n",
    "#### (05) Equivalent Focal Length\n",
    "```python \n",
    "get_equivalent_focal_length(fov,sensor_type=OpticsConstants.SENSOR_FF,\n",
    "direction=OpticsConstants.DIRECTION_HORI,with_keys=False)```\n",
    "Equivalent focal length for given sensor $S$ , given direction and field of view $\\alpha$ :<br>\n",
    "$\n",
    "\\begin{align*}\n",
    "f = \\frac{x}{2 \\cdot tan\\left(\\frac{\\alpha}{2}\\right)} \\ \\{x:d_S,w_S,h_S\\}    \n",
    "\\end{align*}\n",
    "$"
   ]
  },
  {
   "cell_type": "markdown",
   "metadata": {},
   "source": [
    "<a id=\"06\"></a>\n",
    "#### (06) Equivalent Focal Length after Crop was applied  \n",
    "```python \n",
    "get_crop_focal_length_equivalent(f,crop,sensor_type=OpticsConstants.SENSOR_FF,\n",
    "                           direction=OpticsConstants.DIRECTION_HORI,with_keys=False)```\n",
    "Equivalent Focal Length after Crop was applied: rweturns both focal length in native <br>\n",
    "sensor format and full frame equivalent focal length as well as field of view for cropped image. <br>\n",
    "Crop factor $c\\$: Value between 0 and 1 (1:No Crop 0:Cropped into nothing)<br>\n",
    "\n",
    "$\n",
    "\\begin{align*}\n",
    "f(S)_{eq} &= \\frac{c \\cdot x}{2 \\cdot tan\\left(\\frac{\\alpha}{2}\\right)} \\ \\{x:d_S,w_S,h_S\\}; \\\n",
    "f(S)_{\\text{eq_FF}} = C_S \\cdot f(S)_{eq} \\\\    \n",
    "\\alpha_\\text{x_eq}\n",
    " &= 2 \\cdot \\arctan\\left(\\frac{c \\cdot x}{2 \\cdot f}\\right) \\ \\\n",
    "\\end{align*}\\\\\n",
    "$        "
   ]
  },
  {
   "cell_type": "markdown",
   "metadata": {},
   "source": [
    "<a id=\"07\"></a>\n",
    "#### (07) Diffraction Disc Diameter in $\\mu m$ for given aperture number $k$ and wavelength $\\lambda \\hspace{1mm} (\\mu m)$\n",
    "```python \n",
    "get_diffraction_disc_diameter(k,lambda_nm=OpticsConstants.STANDARD_WAVELENGTH,with_keys=False)```\n",
    "Diffraction disc diameter in $\\mu m$ for given aperture number and wavelength $\\lambda$ (default 550nm): \n",
    "$\n",
    "\\begin{align*}\n",
    "d = 1,22 \\cdot \\lambda \\cdot k\n",
    "\\end{align*}\\\\\n",
    "$  "
   ]
  },
  {
   "cell_type": "markdown",
   "metadata": {},
   "source": [
    "<a id=\"08\"></a>\n",
    "#### (08) Optimum Aperture\n",
    "```python \n",
    "get_optimum_aperture(sensor_type=OpticsConstants.SENSOR_FF,\n",
    "                             lambda_nm=OpticsConstants.STANDARD_WAVELENGTH,\n",
    "                             magnification=0,coc=None,with_keys=False)```\n",
    "                             \n",
    "Effective Optimum Aperture ( coc in the range of Diffraction) and nominal optimum aperture: <br>\n",
    "$\n",
    "\\begin{align*}\n",
    "\\mathit{coc} \\approx d \\Rightarrow \n",
    "k_\\text{eff_opt} = \\frac{\\text{coc}}{1,22 \\cdot \\lambda}; \n",
    "\\ k_\\text{nom_opt} = \\frac{k_\\text{eff_opt}}{1+m}\n",
    "\\end{align*}\n",
    "$"
   ]
  },
  {
   "cell_type": "markdown",
   "metadata": {},
   "source": [
    "<a id=\"09\"></a>\n",
    "#### (09) Magnification Factor (Based on lens equation)\n",
    "```python \n",
    "get_magnification(distance,f,with_keys=False)```\n",
    "Magnification (based on lens equation):\n",
    "$\n",
    "m = \\frac{1}{\\large{\\frac{d_O}{f}}-1}\n",
    "$"
   ]
  },
  {
   "cell_type": "markdown",
   "metadata": {},
   "source": [
    "<a id=\"10\"></a>\n",
    "#### (10) Optimum Aperture Pixel Pitch\n",
    "```python \n",
    "get_optimum_aperture_pixel_pitch(sensor_type=OpticsConstants.SENSOR_FF,\n",
    "                                 megapixels=24,lambda_nm=OpticsConstants.STANDARD_WAVELENGTH,\n",
    "                                 magnification=0,with_keys=False)```\n",
    "Calculates aperture, so that the circle of confusion will fit into a single pixel (see formula 8 above) <br>\n",
    "$\n",
    "\\begin{align*}\n",
    "\\mathit{pp(S)} \\approx \\mathit{coc} \\Rightarrow\n",
    "k_\\text{opt_pp} = \\frac{\\mathit{pp(S)}}{1,22 \\cdot \\lambda}; \n",
    "\\ k_\\text{nom_opt_pp} = \\frac{k_\\mathit{opt\\_pp}}{1+m}\n",
    "\\end{align*}\n",
    "$\n"
   ]
  },
  {
   "cell_type": "markdown",
   "metadata": {},
   "source": [
    "<a id=\"11a\"></a>\n",
    "#### (11a) Exposure Value\n",
    "```python \n",
    "get_exposure_value(t=1.,k=1.,iso=100.,with_keys=False)```\n",
    "Calculates exposure value at ISO100 and other sensitivities:<br>\n",
    "$\n",
    "\\begin{align*}\n",
    "\\mathit{EV}_\\text{100} &= \\mathit{EV}_{AV} + \\mathit{EV}_{TV} \n",
    "= log_2k^2 + log_2\\frac{1}{t} \\\\\n",
    "\\mathit{EV}_\\text{ISO} &= \\mathit{EV}_\\text{100} + \\mathit{EV}_{SV} =  \\mathit{EV}_\\text{100} + log_2\\frac{\\text{ISO}}{100} \\\\\n",
    "&= \\mathit{EV}_{AV} + \\mathit{EV}_{TV} + \\mathit{EV}_{SV} \\\\\n",
    "\\mathit{EV}_\\text{ISO} &= log_2k^2 + log_2\\frac{1}{t} + log_2\\frac{\\text{ISO}}{100}\n",
    "\\end{align*}\n",
    "$"
   ]
  },
  {
   "cell_type": "markdown",
   "metadata": {},
   "source": [
    "<a id=\"11b\"></a>\n",
    "#### (11b) Exposure Time\n",
    "```python \n",
    "get_exposure_time(ev=10.,k=1.,iso=100.,with_keys=False)```\n",
    "Calculates exposure time $t$ from exposure value formula <br>\n",
    "$\n",
    "\\begin{align*}\n",
    "&\\mathit{EV}_{TV} = \\mathit{EV}_\\text{ISO} - \\mathit{EV}_{AV} - \\mathit{EV}_{SV} = log_2\\frac{1}{t} \n",
    "\\Rightarrow t = \\frac{1}{\\large 2^{\\mathit{EV}_{TV}}}\n",
    "\\end{align*}\n",
    "$"
   ]
  },
  {
   "cell_type": "markdown",
   "metadata": {},
   "source": [
    "<a id=\"11c\"></a>\n",
    "#### (11c) Exposure Aperture\n",
    "```python \n",
    "get_exposure_aperture(ev=10.,t=1.,iso=100.,with_keys=False)```\n",
    "Calculates exposure aperture $k$ from exposure value formula <br>\n",
    "$\n",
    "\\begin{align*}\n",
    "\\mathit{EV}_{AV} &= \\mathit{EV}_\\text{ISO} - \\mathit{EV}_{TV} - \\mathit{EV}_{SV} = log_2k^2\n",
    "\\Rightarrow k= \\sqrt{\\large 2^{\\mathit{EV}_{AV}}}\n",
    "\\end{align*}\n",
    "$"
   ]
  },
  {
   "cell_type": "markdown",
   "metadata": {},
   "source": [
    "<a id=\"11d\"></a>\n",
    "#### (11d) Exposure Sensitivity\n",
    "```python \n",
    "get_exposure_sensitivity(ev=10.,k=16.,t=1.,with_keys=False)```\n",
    "Calculates sensitivity $\\text{ISO}$ from exposure value formula <br>\n",
    "$\n",
    "\\begin{align*}\n",
    "\\mathit{EV}_{SV} = \\mathit{EV}_\\text{ISO} - \\mathit{EV}_{AV} - \\mathit{EV}_{TV} = log_2\\frac{\\text{ISO}}{100}\n",
    "\\Rightarrow \\text{ISO} = 100 \\times \\large 2^{\\mathit{EV}_{SV}}\n",
    "\\end{align*}\n",
    "$\n"
   ]
  },
  {
   "cell_type": "markdown",
   "metadata": {},
   "source": [
    "<a id=\"12\"></a>\n",
    "#### (12) Aperture Number Series\n",
    "```python \n",
    "get_aperture_number(start_aperture=2.8,stop_width=4,num_stops=2,with_keys=False)```\n",
    "Help function to calculate Aperture Number for a given number of f Stop Fractions and a starting Aperture Number, see the example below.\n",
    "* startAperture: Start Aperture\n",
    "* stopWidth: number of stops for single f Stop, eg use stopWidth = 3 for 1/3 of a stop\n",
    "* numStops: Number of stopWidths\n",
    "Examples: fStop(1,1,1)=1,4; fStop(1,1,2)=2; fStop(1.4,1,1)=2; fStop(1,3,3)=1.4 , ...\n"
   ]
  },
  {
   "cell_type": "markdown",
   "metadata": {},
   "source": [
    "<a id=\"13\"></a>\n",
    "#### (13) Closeup Focal Length\n",
    "```python \n",
    "get_closeup_focal_length(f,D,with_keys=False)```\n",
    "Clculate focal length of diopter $f_D$ and resulting close up focal length.\n",
    "$\n",
    "\\begin{align*}\n",
    "f_D &= \\frac{1000}{D}; f_c = \\large{\\frac{1}{\\frac{1}{f}+\\frac{1}{f_D}}}\n",
    "\\end{align*}\n",
    "$"
   ]
  },
  {
   "cell_type": "markdown",
   "metadata": {},
   "source": [
    "<a id=\"14\"></a>\n",
    "#### (14) Closeup Magnification at Distance \n",
    "```python \n",
    "get_closeup_magnification_at_distance(f,D,distance=inf,with_keys=False)```\n",
    "Close up lens magnification at focussing distance infinity $m_\\infty$ and given distance $m_d$ : <br>\n",
    "$\n",
    "\\begin{align*}\n",
    "m_\\infty = f / f_D = \\frac{f \\times D} {1000}; \\\n",
    "m_d = \\frac{f \\cdot (d_O+f_D)}{f_D \\cdot (d_O-f)}\n",
    "= m_\\infty \\cdot \\frac{(d_O+f_D)}{(d_O-f)}\n",
    "\\end{align*}\n",
    "$"
   ]
  },
  {
   "cell_type": "markdown",
   "metadata": {},
   "source": [
    "<a id=\"15\"></a>\n",
    "#### (15) Closeup Magnification \n",
    "```python \n",
    "get_extension_closeup_magnification(f,extension=0.,D=0,magnificaton_lens=0.,with_keys=False)```\n",
    "Magnification for tube extension e and close up lens combined of lens with native lens magnification $m_L$ <br>\n",
    "$\n",
    "\\begin{align*}\n",
    "m_e = m_L + \\frac{f}{f_D} \\cdot \\left(1+m_L\\right) + e \\cdot \\left( \\frac{1}{f} + \\frac{1}{f_D}\\right)\n",
    "\\end{align*}\n",
    "$\n"
   ]
  },
  {
   "cell_type": "markdown",
   "metadata": {},
   "source": [
    "<a id=\"16\"></a>\n",
    "#### (16) Depth of Field DOF for Macro\n",
    "```python \n",
    "get_dof_macro(k,magnification,sensor_type=OpticsConstants.SENSOR_FF,with_keys=False)```\n",
    "Calculate depth of field for macro case with effective aperture $k_\\mathit{eff}$ <br>\n",
    "$\n",
    "\\begin{align*}\n",
    "k_\\mathit{eff}=k \\cdot (m + 1);\n",
    "\\ \\mathit{DOF}_M = \\frac{2 \\cdot k_\\mathit{eff} \\cdot \\mathit{coc}}\n",
    "                   {m^2}\n",
    "\\end{align*}\n",
    "$\n"
   ]
  },
  {
   "cell_type": "markdown",
   "metadata": {},
   "source": [
    "<a id=\"17\"></a>\n",
    "#### (17) Fisheye Projection\n",
    "```python \n",
    "get_fisheye_projection(f,alpha=0,projection=OpticsConstants.PROJECTION_RECTILINEAR,\n",
    "                       anglefactor=None,with_keys=False)```\n",
    "Projection is defined by constants <br>\n",
    "```python \n",
    "PROJECTIONS = [ PROJECTION_RECTILINEAR,PROJECTION_STEREOGRAPHIC,\n",
    "                PROJECTION_EQUIDISTANT,PROJECTION_ORTHOGRAPHIC,\n",
    "                PROJECTION_EQUISOLID ]```\n",
    "Fisheye lens projections are defined as follows ($\\alpha$ being the incident angle between normal of lens surface and incident ray ):                   \n",
    "$\n",
    "\\begin{align*}\n",
    "[17a]\\ r &= f \\cdot \\alpha \\ &\\text{Equidistant Projection}\\\\\n",
    "[17b]\\ r &= f \\cdot sin(\\alpha) \\ &\\text{Orthographic Projection}\\\\\n",
    "[17c]\\ r &= f \\cdot tan(\\alpha) \\ &\\text{Rectilinear Projection}\\\\\n",
    "[17d]\\ r &= \\lambda \\cdot f \\cdot sin\\begin{pmatrix} \\large\\frac{\\alpha}{\\lambda} \\end{pmatrix} \\hspace{1mm} &\\text{Equisolid Projection}\\\\\n",
    "[17e]\\ r &= \\lambda \\cdot f \\cdot tan\\begin{pmatrix} \\large\\frac{\\alpha}{\\lambda} \\end{pmatrix} \\hspace{1mm} &\\text{Stereographic Projection}\\\\\n",
    "\\end{align*}\n",
    "$                       "
   ]
  },
  {
   "cell_type": "markdown",
   "metadata": {},
   "source": [
    "<a id=\"18\"></a>\n",
    "#### (18) Fisheye Lens Projection\n",
    "```python \n",
    "get_fisheye_lens_projection(lens,alpha,with_keys=False)````\n",
    "Returns Fisheye Projections for a selected list of fisheye lenses:\n",
    "```python\n",
    "LENSES = [ LENS_SAMYANG8, LENS_SAMYANG75, LENS_MEIKE65,LENS_SIGMA8F35,\n",
    "           LENS_CANON15,LENS_NIKON10,LENS_MADOKA ]\n",
    "```"
   ]
  },
  {
   "cell_type": "markdown",
   "metadata": {},
   "source": [
    "<a id=\"19\"></a>\n",
    "#### (19) Cropped Resolution\n",
    "```python \n",
    "get_cropped_resolution(megapixels=24,crop=0.5,with_keys=False)```\n",
    "Image size $R_c$ for cropped image with original pixel size $\\mathit{MP}$ and image crop factor $c$  \n",
    "$\n",
    "\\begin{align*}\n",
    "R_c = c^2 \\times \\mathit{MP}\n",
    "\\end{align*}\n",
    "$"
   ]
  },
  {
   "cell_type": "markdown",
   "metadata": {},
   "source": [
    "<a id=\"20\"></a>\n",
    "#### (20) Cropped Effective Focal Length\n",
    "```python \n",
    "get_crop_effective_focal_length(f=50,crop=0.5,with_keys=False)```\n",
    "If an image is cropped with factor $c$ with new cropped angle $\\alpha'$, what is the resulting effective focal length $f_{crop}$ (=focal length, that would result, if the reduced field of view would be projected on the complete senor) ?<br>\n",
    "Original relation for focal length with crop applied}:<br>\n",
    "$\n",
    "\\begin{align*}\n",
    "tan\\left( \\frac{\\alpha'}{2} \\right) &= \\frac{c \\cdot x}{2 f} \n",
    "\\ \\{x:d_S,w_S,h_S\\}; \\\\\n",
    "tan\\left( \\frac{\\alpha'}{2} \\right) &= \\frac{x}{2 f_{crop}} \\\\\n",
    "\\Rightarrow f_{crop} &= f / c\n",
    "\\end{align*}\n",
    "$"
   ]
  },
  {
   "cell_type": "markdown",
   "metadata": {},
   "source": [
    "<a id=\"21\"></a>\n",
    "#### (21) Equivalent Sensor Specs\n",
    "```python \n",
    "get_equivalent_sensor_specs(f=50.,k=2,iso=100.,\n",
    "                            sensor=OpticsConstants.SENSOR_APSC,\n",
    "                            sensor_target=OpticsConstants.SENSOR_FF,\n",
    "                            with_keys=False)\n",
    "```\n",
    "Calculate sensor equivalent focal length, aperture and iso, when converting from a source sensor spec $S_{SRC}$ to a target sensor spec $S_{TRG}$. Main factor is relativ crop factor between target and source sensor specs (default target spec is full frame sensor) <br>\n",
    "$\n",
    "\\begin{align*}\n",
    "c_{rel} &= \\frac{d_{\\text{S_TRG}}}{d_{\\text{S_SRC}}}; \\\n",
    "k_{\\text{TRG}} = c_{rel} \\cdot k_{\\text{SRC}}; \\\n",
    "f_{\\text{TRG}} = c_{rel} \\cdot f_{\\text{SRC}}; \\\n",
    "\\mathit{ISO}_{\\text{TRG}} = c_{rel}^2 \\cdot \\mathit{ISO}_{\\text{SRC}} \\\n",
    "\\end{align*}\n",
    "$"
   ]
  },
  {
   "cell_type": "markdown",
   "metadata": {},
   "source": [
    "<a id=\"22\"></a>\n",
    "#### (22) Astro Photography Exposure Times and Star Speed on sensor \n",
    "```python \n",
    "get_astro_speed(f=50,k=2.8,\n",
    "                sensor_type=OpticsConstants.SENSOR_FF,\n",
    "                megapixels=24,\n",
    "                dimension=OpticsConstants.DIMENSION_WIDTH,\n",
    "                with_keys=False)```\n",
    "##### Traversal of Image Pixel through earth rotation\n",
    "Based on Earth rotation speed $\\omega_E$ (360°/day = 0,00416°/second) calculate the rate of speed a pixel sized star image would move across the sensor, given the focal length $f$, sensor dimension $\\{x:w,h,d\\}$ and number of pixels $p_x$ in a given direction. \n",
    "For this data, field of view $\\text{fov}$ and pixel $p_\\alpha$ per angle and sensor length per angle $l_\\alpha$ can be calculated.       From this the traversal speed of the pixel image on the sensor can be calculated in absolute length $v_l$ and given in pixels $v_p$.\n",
    "Absolute traversal given in pixels $P_\\tau$ and length $L_\\tau$ is given by multiplying this speed with exposure time $\\tau$:<br>\n",
    "$\n",
    "\\begin{align*}\n",
    "l_\\alpha &= \\frac{x}{\\text{fov}}; \\\n",
    "p_\\alpha = \\frac{p_x}{\\text{fov}}; \\\n",
    "v_l = \\omega_E \\cdot l_\\alpha; \\\n",
    "v_p = \\omega_E \\cdot p_\\alpha \\\\\n",
    "\\Rightarrow \\ & \\boxed{ L_\\tau = v_p \\cdot \\tau; \\ P_\\tau = v_l \\cdot \\tau \\ }\n",
    "\\end{align*}\n",
    "$"
   ]
  },
  {
   "cell_type": "markdown",
   "metadata": {},
   "source": [
    "#### T 500 rule and NPF rule for Astro Photography \n",
    "For rule of thumb calculation of maximum exposure time the 500T rule has established and can be adapted for non full frame sensors.\n",
    "The so called \"NPF rule\" has been out recently to get more concise results for digital sensors. \n",
    "The formula above will calculate exposure times for 500T and NPF rule for a given focal length $f_{FF}$ on full frame / $f_S$ for a given sensor with crop factor $c$. \n",
    "NPF formula will also take into account aperture number $k$ and sensor pixel pitch ${pp}$. \n",
    "Formula will also calculate the pixel trail of a pixel sized light source traversing over the sensor during exposure time:<br>\n",
    "$\n",
    "\\begin{align*}\n",
    "\\boxed{\\begin{matrix}\n",
    "\\tau_{500} = \\large\\frac{500}{f_{FF}} \\sim \\frac{500}{c \\cdot f_S} \\\\\n",
    "L_ \\mathit{\\tau_{500}} = v_p \\cdot \\tau_\\mathit{500} \\\\\n",
    "P_\\mathit{\\tau_{500}} = v_l \\cdot \\tau_\\mathit{500} \n",
    "\\end{matrix} }; \\\n",
    "\\boxed{\\begin{matrix}\n",
    "\\tau_\\mathit{NPS} = \\large\\frac{35 \\ \\times \\ k \\ + \\ 30 \\ \\times \\ \\mathit{pp}}{f} \\\\\n",
    "L_ \\mathit{\\tau_{NPS}} = v_p \\cdot \\tau_\\mathit{NPS} \\\\\n",
    "P_\\mathit{\\tau_{NPS}} = v_l \\cdot \\tau_\\mathit{NPS} \n",
    "\\end{matrix} }\n",
    "\\end{align*}\n",
    "$\n"
   ]
  }
 ],
 "metadata": {
  "kernelspec": {
   "display_name": "Python 3",
   "language": "python",
   "name": "python3"
  },
  "language_info": {
   "codemirror_mode": {
    "name": "ipython",
    "version": 3
   },
   "file_extension": ".py",
   "mimetype": "text/x-python",
   "name": "python",
   "nbconvert_exporter": "python",
   "pygments_lexer": "ipython3",
   "version": "3.6.6"
  }
 },
 "nbformat": 4,
 "nbformat_minor": 2
}
