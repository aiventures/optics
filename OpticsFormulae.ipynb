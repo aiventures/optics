{
 "cells": [
  {
   "cell_type": "markdown",
   "metadata": {},
   "source": [
    "# Photography Optics Collection\n",
    "This is to demonstrate / document optics_formulas module to provide common and uncommon calculation that might prove useful in Photography ...\n",
    "(c) AiVentures 2020"
   ]
  },
  {
   "cell_type": "code",
   "execution_count": 2,
   "metadata": {
    "scrolled": true
   },
   "outputs": [
    {
     "name": "stdout",
     "output_type": "stream",
     "text": [
      "Help on class OpticsCalculator in module optics.optics_formulas:\n",
      "\n",
      "class OpticsCalculator(builtins.object)\n",
      " |  \" Performs Opticál Calculations Useful for Photography\n",
      " |  \n",
      " |  Static methods defined here:\n",
      " |  \n",
      " |  bootstrap(sensor_type='FF', megapixels=None)\n",
      " |      get variables and sensor specs\n",
      " |  \n",
      " |  convert_to_tuple(name, d)\n",
      " |      turns dictionary into named & hashable tuple. keys are sorted \n",
      " |      can be reversed by calling _asdict()\n",
      " |  \n",
      " |  get_aperture_for_dof(f, distance, dof, sensor_type='FF', with_keys=False)\n",
      " |      #4b Calculate Aperture on given Depth Of Field\n",
      " |      http://www.elmar-baumann.de/fotografie/schaerfentiefe/node25.html\n",
      " |      k = F*F*(sqrt(dist*dist+DOF*DOF)-dist)/((DOF*CoC)*(dist-F))\n",
      " |      DOF: Depth Of Field/dist:Focus Distance/f:Focal Length/CoC:Circle Of Confusion\n",
      " |  \n",
      " |  get_aperture_number(start_aperture=2.8, stop_width=4, num_stops=2, with_keys=False)\n",
      " |      #12 Calculate Aperture Number for a given number of f Stop Fractions \n",
      " |      and a starting Aperture Number\n",
      " |      startAperture: Start Aperture\n",
      " |      stopWidth: number of stops for single f Stop, eg use stopWidth = 3 for 1/3 of a stop\n",
      " |      numStops: Number of stopWidths\n",
      " |      Examples: fStop(1,1,1)=1,4; fStop(1,1,2)=2; fStop(1.4,1,1)=2; fStop(1,3,3)=1.4 , ...\n",
      " |  \n",
      " |  get_astro_speed(f=50, k=2.8, sensor_type='FF', megapixels=24, dimension='Width_mm', with_keys=False)\n",
      " |      #22 calculates pixel velocity due to earth rotation and astro exposure time\n",
      " |      according to 500/T rule and NPF Rule\n",
      " |      assumption: rotation equivalent to one day so camera speed is \n",
      " |      24 hours = 360 degress -> 1hr = 15deg -> 1min = 0,24deg -> 1sec = 0.0041deg\n",
      " |      https://astrobackyard.com/the-500-rule/\n",
      " |      https://petapixel.com/2017/04/07/npf-rule-formula-sharp-star-photos-every-time/\n",
      " |  \n",
      " |  get_closeup_focal_length(f, D, with_keys=False)\n",
      " |      #13 Close Up Lens focal length (D = 1 / f ); D [1/m]; f [mm]\n",
      " |      D: Diopters closeup lens, f focal length\n",
      " |      http://www.elmar-baumann.de/fotografie/herleitungen/herleitungen-abbildungsmasstab.html\n",
      " |  \n",
      " |  get_closeup_magnification_at_distance(f, D, distance=inf, with_keys=False)\n",
      " |      #14 Close Up Lens Magnification At Focussing Distance dist (in meters)\n",
      " |      D: Diopters closeup lens, f focal length\n",
      " |      http://www.elmar-baumann.de/fotografie/herleitungen/herleitungen-abbildungsmasstab.html\n",
      " |  \n",
      " |  get_crop_effective_focal_length(f=50, crop=0.5, with_keys=False)\n",
      " |      #20 Image Crop Functions: Cropped effective focal length\n",
      " |      In essence the effective Focal length would result, if the\n",
      " |      cropped image would hit the ENTIRE sensor (instead of a section only)\n",
      " |      f: focal length / s:sensor length / s': cropped sensor length\n",
      " |      a) tan(alpha/2) = s / (2*f)   / original Relation\n",
      " |      b) tan(alpha'/2) = s'/ (2*f) / Geometry for Crop\n",
      " |      c) tan(alpha'/2) = s / (2*f') / \"As If focal length f' \" Crop would hit the complete sensor\n",
      " |      d) s' = x * s                / Crop Image\n",
      " |      b) c) d) combined\n",
      " |      tan(alpha'/2) = s' / (2*f) = s / (2*f') => f= (s/s') * f = f / crop\n",
      " |      e) f= f / x\n",
      " |  \n",
      " |  get_crop_focal_length_equivalent(f, crop, sensor_type='FF', direction='DirectionHorizontal', with_keys=False)\n",
      " |      #6 Equivalent Focal Length after Crop was applied\n",
      " |      CropFactor: Value between 0 and 1 (1:No Crop 0:Cropped into nothing)\n",
      " |  \n",
      " |  get_cropped_resolution(megapixels=24, crop=0.5, with_keys=False)\n",
      " |      #19 ImageCrop Functions: Cropped Image Size in Megapixels\n",
      " |      Cropped Megapixels. Let\n",
      " |      a) d = MP / A ( d: Pixel Density; MP: Megapixels; A:Area )\n",
      " |      b) A = w * h = R * h * h (width * height/R Image Ratio)\n",
      " |      c) w= crop * w; h= crop * h  (x:Image Crop factor 0..1 )\n",
      " |      d) A'= w* h= crop^2 * w * h = crop^2 * A\n",
      " |      e) d = MP / A = MP'/ A'=> MP'= MP * A'/ A = x^2 * MP\n",
      " |  \n",
      " |  get_diffraction_disc_diameter(k, lambda_nm=550, with_keys=False)\n",
      " |      #7 gets the diffraction disc diameter in um for given aperture number and wavelength lambda\n",
      " |      default wavelength is 550nm \n",
      " |      Diffraction Disc Radius\n",
      " |      https://en.wikipedia.org/wiki/Diffraction-limited_system#Implications_for_digital_photography\n",
      " |      https://de.wikipedia.org/wiki/Kritische_Blende\n",
      " |      https://de.wikipedia.org/wiki/Beugungsunsch%C3%A4rfe\n",
      " |      https://de.wikipedia.org/wiki/Numerische_Apertur\n",
      " |      Returns Size of Diffraction Disc in Micrometers for a wavelength lambda (in nm)\n",
      " |  \n",
      " |  get_dof(f, k, sensor_type='FF', distance=None, with_keys=False)\n",
      " |      #4a Returns hyperfocal distance, near point, far point, depth of field\n",
      " |      Hyperfocal Distance in [m]\n",
      " |      ( https://de.wikipedia.org/wiki/Hyperfokale_Entfernung )\n",
      " |      f: Focal Length (mm)\n",
      " |      k: Aperture Number, eg Aperture F/4 -> k=4 (1)\n",
      " |      {sensorType:FF,APSC,MFT}, determines Circle Of Confusion\n",
      " |      hyperfocal = f*f / k*Z + f\n",
      " |      Depth Of Field Calculation / Near Point\n",
      " |      https://de.wikipedia.org/wiki/Sch%C3%A4rfentiefe\n",
      " |      https://en.wikipedia.org/wiki/Depth_of_field\n",
      " |      dn: Near Limit (m) / df: far Limit (m) / \n",
      " |      dist: Subject Distance in m\n",
      " |      DOF_Near = distance * (hyperfocal - F) / ((hyperfocal - F) + (distance - F))\n",
      " |      DOF_Far  = distance * (hyperfocal - F) / ((hyperfocal - F) + (F - distance))|for distance < hyperfocal\n",
      " |  \n",
      " |  get_dof_macro(k, magnification, sensor_type='FF', with_keys=False)\n",
      " |      #16 DOF Calculation for macro case (neglecting Pupil Magnification)\n",
      " |      On Macro Photography, Check out\n",
      " |      http://www.cambridgeincolour.com/tutorials/macro-photography-intro.htm\n",
      " |      http://www.dofmaster.com/equations.html\n",
      " |      Formula taken from\n",
      " |      https://en.wikipedia.org/wiki/Depth_of_field#Close-up\n",
      " |  \n",
      " |  get_equivalent_focal_length(fov, sensor_type='FF', direction='DirectionHorizontal', with_keys=False)\n",
      " |      #5 Equivalent Focal Length for given Field Of View given in degrees\n",
      " |  \n",
      " |  get_equivalent_sensor_specs(f=50.0, k=2, iso=100.0, sensor='APSC', sensor_target='FF', with_keys=False)\n",
      " |      ##21 Calculates equivalent lens specs for a given sensor type to a target sensor type\n",
      " |  \n",
      " |  get_exposure_aperture(ev=10.0, t=1.0, iso=100.0, with_keys=False)\n",
      " |      #11c calculate exposure aperture for given exposure value and exposure time and iso\n",
      " |  \n",
      " |  get_exposure_sensitivity(ev=10.0, k=16.0, t=1.0, with_keys=False)\n",
      " |      #11d calculate exposure aperture for given exposure value and exposure time and aperture\n",
      " |  \n",
      " |  get_exposure_time(ev=10.0, k=1.0, iso=100.0, with_keys=False)\n",
      " |      #11b calculate exposure time for given exposure value and aperture and iso\n",
      " |  \n",
      " |  get_exposure_value(t=1.0, k=1.0, iso=100.0, with_keys=False)\n",
      " |      #11a calculate exposure value\n",
      " |      https://de.wikipedia.org/wiki/Lichtwert\n",
      " |      https://en.wikipedia.org/wiki/Exposure_value\n",
      " |      https://www.scantips.com/lights/evchart.html\n",
      " |      t: Exposure Time [s] / k:Aperture Number [1] / ISO: ISO Value (sensitivity) [1]\n",
      " |      Exposure_AV: Aperture Value\n",
      " |  \n",
      " |  get_extension_closeup_magnification(f, extension=0.0, D=0, magnificaton_lens=0.0, with_keys=False)\n",
      " |      #15 Magnification for Tube Extension and Close Up Lens Combined\n",
      " |      will simplify to extension magnification for tube extension if D is 0\n",
      " |      http://www.herbig-3d.de/german/kameraoptik.htm\n",
      " |  \n",
      " |  get_field_of_view(focal_length, sensor_type='FF', magnification=0, with_keys=False)\n",
      " |      #02 Calculate Field Of View Angles for given sensor and focal length \n",
      " |      Field Of View is also calculated as fraction of unit sphere 4Pi     \n",
      " |      Field of view as fraction of a sphere / 4 Pi \n",
      " |      (4 Pi Sterads corresponds to the surface angle on a sphere of radius 1)\n",
      " |      One infinitesimal area on the sphere is ( r sin v dv ) * ( r dh ) \n",
      " |      (h:horizontal angle v:vertical angle)\n",
      " |      For finite angles v and h: INT(r*r*sin v dv dh)|(0...h)(0...v) \n",
      " |      h:v:horizontal vertical field of view (#4a)\n",
      " |      Area Angle OMEGA = INT(r*r*sin v dv dh)|(0...h)(0...v) / r^2\n",
      " |              => OMEGA = h * (-cos v  + cos 0  ) = h * ( 1 - cos v )\n",
      " |      Whole spehere: h = 2 Pi / v = Pi > OMEGA(Sphere) = 2 Pi (1 - cos Pi ) = 4 Pi\n",
      " |      OmegaIn4Pi = OMEGA / 4 Pi            \n",
      " |      ALso consider magnification\n",
      " |      https://en.wikipedia.org/wiki/Angle_of_view#Macro_photography\n",
      " |  \n",
      " |  get_fisheye_lens_projection(lens, alpha, with_keys=False)\n",
      " |      #18 gets specific lens specs for a given fisheye\n",
      " |  \n",
      " |  get_fisheye_projection(f, alpha=0, projection='Rectilinear', anglefactor=None, with_keys=False, value_only=False)\n",
      " |      #17 Returns fisheye projection for focal length, incident angle, projection\n",
      " |      in case anglefactor is not supplied, default will be taken\n",
      " |      also returns lambda function(f,alpha,factor)\n",
      " |      http://pt4pano.com/de/blog/samyang-f2812mm-fullframe\n",
      " |      fisheye factor in PtGui https://www.ptgui.com/support.html#3_28           \n",
      " |      Projection Formulas:\n",
      " |      PROJECTION_RECTILINEAR   = f * Tan(alphaRad)\n",
      " |      PROJECTION_STEREOGRAPHIC = f * anglefactor * Tan(alphaRad / anglefactor)\n",
      " |      PROJECTION_EQUIDISTANT   = f * alphaRad\n",
      " |      PROJECTION_ORTHOGRAPHIC  = f * Sin(alphaRad)\n",
      " |      PROJECTION_EQUISOLID     = f * anglefactor * Sin(alphaRad / anglefactor)\n",
      " |  \n",
      " |  get_focal4distance(obj_dist, obj_height, sensor_type='FF', dimension='Width_mm', with_keys=False)\n",
      " |      #03 Based on lens equation, calculates focal length and fov in mm \n",
      " |      for given object distance obj_dist [m] and object size obj_size [m]\n",
      " |      (answers how much focal length is required to cover the whole sensor)\n",
      " |      https://de.wikipedia.org/wiki/Linsengleichung\n",
      " |      f = (im_height * obj_dist) / (im_height + obj_height)\n",
      " |  \n",
      " |  get_magnification(distance, f, with_keys=False)\n",
      " |      #9 Returns Magnification Factor (based on lens equation)\n",
      " |      https://de.wikipedia.org/wiki/Linsengleichung\n",
      " |      distance:Object Distance in m, f:focal Length in mm\n",
      " |  \n",
      " |  get_optimum_aperture(sensor_type='FF', lambda_nm=550, magnification=0, coc=None, with_keys=False)\n",
      " |      #8 Returns Optimum Aperture ( CoC in the range of Diffraction)\n",
      " |      http://www.elmar-baumann.de/fotografie/rechner/rechner-foerderliche-blende.html\n",
      " |      https://www.elmar-baumann.de/fotografie/lexikon/blende-effektive.html\n",
      " |      https://www.elmar-baumann.de/fotografie/lexikon/blende-foerderliche.html\n",
      " |      https://de.wikipedia.org/wiki/Kritische_Blende\n",
      " |      https://de.wikipedia.org/wiki/Beugungsscheibchen\n",
      " |      http://foto-net.de/net/objektive/licht.html\n",
      " |      CoC:Circle Of Confusion in MicroMeters\n",
      " |      lambda: Wavelength in nm\n",
      " |      m:Magnification\n",
      " |  \n",
      " |  get_optimum_aperture_pixel_pitch(sensor_type='FF', megapixels=24, lambda_nm=550, magnification=0, with_keys=False)\n",
      " |      #10 Aperture calculated for Diffraction having the size of a single Pixe\n",
      " |      How small can the aperture be, so that the Circle of Confusion will fit into a single pixel\n",
      " |  \n",
      " |  get_results(result_dict, with_keys=False, tuple_name='', key_dict=None)\n",
      " |      Helper method to get either results as dictionary \n",
      " |      or additionally with supplied input fields\n",
      " |  \n",
      " |  get_scope_params(magnification=10, diameter=50, real_field_of_view=56, sensor_type='FF', dimension='Width_mm', megapixels=24, distance=1000, pupil_eye=7, with_keys=False)\n",
      " |      returns optical parameters for spotting scopes / binoculars\n",
      " |      source http://www.tierundnatur.de/fernglas.htm\n",
      " |  \n",
      " |  get_sensor_specs(sensor_type, megapixels=None, with_keys=False)\n",
      " |      #01 Calculates Sensor Specs \n",
      " |      If Pixel Nuber (in Megapixels) is given then additional specs are calculated\n",
      " |      If with_keys is set it will return a dictionary with input values as named tuple,\n",
      " |      otherwise only result values\n",
      " |  \n",
      " |  get_shift_lens_params(f=50, shift=5.0, sensor_type='FF', dimension='Width_mm', megapixels=24.0, with_keys=False)\n",
      " |      #23 calculates parameters for shift lenses, for details refer to \n",
      " |      Lester Wareham\n",
      " |      http://www.zen20934.zen.co.uk/photography/tiltshift.htm\n",
      " |      http://www.zen20934.zen.co.uk/photography/dof/dof.htm (found in archive.org)\n",
      " |  \n",
      " |  get_tilt_lens_params(alpha=5.0, f=50, k=None, A=None, sensor_type='FF', megapixels=24, dimension='Width_mm', coc=None, focus_distance=None, with_keys=False)\n",
      " |      #23 calculates parameters for tilt shift lenses, for details refer to \n",
      " |      Harold Merklinger - Focusing View Camera\n",
      " |      http://www.trenholm.org/hmmerk/download.html\n",
      " |      http://www.cs.cmu.edu/~ILIM/courses/vision-sensors/readings/ViewCam.pdf\n",
      " |      Lester Wareham\n",
      " |      http://www.zen20934.zen.co.uk/photography/tiltshift.htm\n",
      " |      http://www.zen20934.zen.co.uk/photography/dof/dof.htm (found in archive.org)\n",
      " |  \n",
      " |  unfreeze(v)\n",
      " |      Unfreeze a single calculation result: reverses frozenset key back to dict \n",
      " |      and extracts result dictionary as key value tuple\n",
      " |  \n",
      " |  ----------------------------------------------------------------------\n",
      " |  Data descriptors defined here:\n",
      " |  \n",
      " |  __dict__\n",
      " |      dictionary for instance variables (if defined)\n",
      " |  \n",
      " |  __weakref__\n",
      " |      list of weak references to the object (if defined)\n",
      "\n"
     ]
    }
   ],
   "source": [
    "# all is contained in a constants class and a class containing static methods\n",
    "import importlib\n",
    "import optics\n",
    "from optics.optics_formulas import OpticsCalculator as o\n",
    "from optics.optics_formulas import OpticsConstants  as oc\n",
    "importlib.reload(optics.optics_formulas)\n",
    "#define a couple of constants used often here\n",
    "sensor_spec = oc.SENSOR_FF # sensor spec\n",
    "megapixels = 24            # mega pixels\n",
    "k = 4                      # aperture\n",
    "f = 50                     # focal length [mm]\n",
    "#object distance and object height\n",
    "o_distance = 1 \n",
    "o_height = 0.5\n",
    "help(o)"
   ]
  },
  {
   "cell_type": "markdown",
   "metadata": {},
   "source": [
    "### Available Formulas / References\n",
    "- [(01) Sensor Specs](#01)\n",
    "* [(02) Field of View](#02)\n",
    "    - https://en.wikipedia.org/wiki/Angle_of_view#Macro_photography\n",
    "* [(03) Focal length $f$ and Field of View $\\alpha$ ](#03)\n",
    "    - https://de.wikipedia.org/wiki/Linsengleichung\n",
    "* [(04a) Depth of View (DOF)](#04a)\n",
    "    - https://de.wikipedia.org/wiki/Hyperfokale_Entfernung\n",
    "    - https://de.wikipedia.org/wiki/Sch%C3%A4rfentiefe\n",
    "    - https://en.wikipedia.org/wiki/Depth_of_field    \n",
    "* [(04b) Get Aperture for Depth of View (DOF)](#04b)\n",
    "    - http://www.elmar-baumann.de/fotografie/schaerfentiefe/node25.html\n",
    "* [(05) Depth of View (DOF)](#05)\n",
    "* [(06) Equivalent Focal Length after Crop was applied](#06)\n",
    "* [(07) Diffraction Disc Diameter in $\\mu m$ for given aperture number $k$ and wavelength $\\lambda \\hspace{1mm} (\\mu m)$](#07)\n",
    "    - https://en.wikipedia.org/wiki/Diffraction-limited_system#Implications_for_digital_photography\n",
    "    - https://de.wikipedia.org/wiki/Kritische_Blende\n",
    "    - https://de.wikipedia.org/wiki/Beugungsunsch%C3%A4rfe\n",
    "    - https://de.wikipedia.org/wiki/Numerische_Apertur\n",
    "* [(08) Optimum Aperture](#08)\n",
    "    - http://www.elmar-baumann.de/fotografie/rechner/rechner-foerderliche-blende.html\n",
    "    - https://www.elmar-baumann.de/fotografie/lexikon/blende-effektive.html\n",
    "    - https://www.elmar-baumann.de/fotografie/lexikon/blende-foerderliche.html\n",
    "    - https://de.wikipedia.org/wiki/Kritische_Blende\n",
    "    - https://de.wikipedia.org/wiki/Beugungsscheibchen\n",
    "    - http://foto-net.de/net/objektive/licht.html    \n",
    "* [(09) Magnification Factor (Based on lens equation)](#09)\n",
    "    - https://de.wikipedia.org/wiki/Linsengleichung\n",
    "* [(10) Optimum Aperture Pixel Pitch](#10)\n",
    "* [(11a) Exposure Value](#11a)\n",
    "    - https://de.wikipedia.org/wiki/Lichtwert\n",
    "    - https://en.wikipedia.org/wiki/Exposure_value\n",
    "    - https://www.scantips.com/lights/evchart.html\n",
    "* [(11b) Exposure Time](#11b)\n",
    "* [(11c) Exposure Aperture](#11c)\n",
    "* [(11d) Exposure Sensitivity](#11d)\n",
    "* [(12) Aperture Number Series](#12)\n",
    "* [(13) Closeup Focal Length](#13)\n",
    "    -  http://www.elmar-baumann.de/fotografie/herleitungen/herleitungen-abbildungsmasstab.html\n",
    "* [(14) Closeup Magnification at Distance](#14)\n",
    "    -  http://www.elmar-baumann.de/fotografie/herleitungen/herleitungen-abbildungsmasstab.html\n",
    "* [(15) Closeup Magnification ](#15)\n",
    "    - http://www.herbig-3d.de/german/kameraoptik.htm\n",
    "* [(16) Depth of Field DOF for Macro](#16)\n",
    "    - http://www.cambridgeincolour.com/tutorials/macro-photography-intro.htm\n",
    "    - http://www.dofmaster.com/equations.html\n",
    "    - https://en.wikipedia.org/wiki/Depth_of_field#Close-up\n",
    "* [(17) Fisheye Projection](#17)\n",
    "* [(18) Fisheye Lens Projection](#18)\n",
    "    - https://www.pt4pano.com/blog/2017/neue-fisheyes-fuer-panoramafotografie\n",
    "    - https://groups.google.com/forum/#!topic/ptgui/AwTE531o7xA  \n",
    "    - http://pt4pano.com/de/blog/samyang-f2812mm-fullframe\n",
    "    - https://www.ptgui.com/support.html#3_28\n",
    "* [(19) Cropped Resolution](#19)\n",
    "* [(20) Cropped Effective Focal Length](#20)\n",
    "* [(21) Equivalent Sensor Specs](#21)\n",
    "* [(22) Astro Photography Exposure Times and Star Speed on sensor](#22)\n",
    "    - https://astrobackyard.com/the-500-rule/\n",
    "    - https://petapixel.com/2017/04/07/npf-rule-formula-sharp-star-photos-every-time/\n",
    "* [(23) Tilt/Shift Photography](#23)\n",
    "    - http://www.zen20934.zen.co.uk/photography/tiltshift.htm\n",
    "    - http://www.zen20934.zen.co.uk/photography/dof/dof.htm (found in archive.org)\n",
    "    - http://www.trenholm.org/hmmerk/download.html\n",
    "* [(24) Lens Scope/Binoculars](#24)\n",
    "    - http://www.tierundnatur.de/fernglas.htm      "
   ]
  },
  {
   "cell_type": "markdown",
   "metadata": {},
   "source": [
    "### Hints / Frequently used variables\n",
    "Some variables/constants are used frequently in formulas<br>\n",
    "Usually, calculation results will be returned as dictionaries (check out the `OpticsConstants` module and its constants). Parameter `with_keys` controls, whether the calculation result comes with the original parameters (might be useful in some cases).\n",
    "The Sensor size and resolution is crucial to all calculations. Most frequently used sensors are predefined as constants, refer to the formula (01) below. "
   ]
  },
  {
   "cell_type": "markdown",
   "metadata": {},
   "source": [
    "### Abbreviations / Constants Used\n",
    "<br>\n",
    "$\n",
    "\\begin{align*}\n",
    "\\alpha&:\\text{Field of view angle } \\text{(fov)}\\\\\n",
    "f&:\\text{focal length (mm)}\\\\\n",
    "f_D&:\\text{focal length of Diopter (mm)}\\\\\n",
    "f_c&:\\text{close up focal length (mm)}\\\\\n",
    "f_{crop}&:\\text{crop effective focal length (mm)}\\\\\n",
    "f(S)_{eq}&:\\text{equivalent focal length for sensor after crop}\\\\\n",
    "f(S)_{\\text{eq_FF}}&:\\text{equivalent full frame focal length for sensor after crop}\\\\\n",
    "\\lambda&:\\text{wavelength (nm)}  \\\\\n",
    "\\lambda_0&:\\text{default wavelength (550 nm)}  \\\\\n",
    "k&:\\text{aperture number}\\\\\n",
    "k_\\mathit{eff}&:\\text{effective aperture}\\\\\n",
    "\\mathit{pp}&:pixel pitch\\\\\n",
    "m&:\\text{magnification, given as ratio } \\tiny\\frac{image \\hspace{1mm} size}{object \\hspace{1mm} size}\\\\ \n",
    "e&:\\text{tube extension}\\\\\n",
    "m_c&:\\text{close up magnification}\\\\\n",
    "m_L&:\\text{native lens magnification}\\\\\n",
    "m_e&:\\text{extension close up magnification}\\\\\n",
    "m_\\infty&:\\text{close up magnification at infinity focus}\\\\\n",
    "m_d&:\\text{close up magnification at focusing distance d}\\\\\n",
    "S&:\\text{sensor (with given specs)}\\\\\n",
    "w_S,h_S,d_S&:\\text{sensor dimensions, (eg width,height,diagonal,...)}\\\\\n",
    "h_I,h_O&:\\text{image height,object height}\\\\\n",
    "d&:\\text{diffraction disc diameter}\\\\\n",
    "d_O&:\\text{object distance}\\\\\n",
    "D&:\\text{close Up Lens Diopters $\\frac{1}{m}$}\\\\\n",
    "S_{FF}&:\\text{fullframe sensor with }w_{FF}:36mm; h_{FF}:24mm; d_{FF}:43,2mm\\\\\n",
    "C_S&:\\text{crop factor for given sensor w.r.t. full frame sensor}\\\\\n",
    "c&:\\text{crop factor for image crop}\\\\\n",
    "c_{rel}&:\\text{relative crop factor for different sensors}\\\\\n",
    "R_c&:\\text{cropped resolution of image}\\\\\n",
    "\\mathit{coc}&:\\text{circle of confusion (=sensor diagonal/1500)} \\\\\n",
    "\\mathit{d_N,d_F,d_H}&:\\text{near point, far point, hyperfocal distance} \\\\\n",
    "\\mathit{DOF}&:\\text{depth of field} \\\\\n",
    "\\mathit{DOF}_M&:\\text{depth of field for macro case} \\\\\n",
    "\\mathit{ISO}&:\\text{sensor sensitivity}\\\\\n",
    "\\mathit{MP}&:\\text{number of Sensor Pixels in Megapixel}\\\\\n",
    "\\omega_E&:\\text{Earth rotation speed (360°/day = 0,00416°/second)}  \\\\\n",
    "p_\\alpha,l_\\alpha&:\\text{pixels $\\left[\\frac{1}{deg}\\right]$ and length $\\left[\\frac{mm}{deg}\\right]$ per angle}\\\\\n",
    "v_p,v_l&:\\text{pixels $\\left[\\frac{1}{sec}\\right]$ and length $\\left[\\frac{mm}{sec}\\right]$ velocity of pixel sized object on sensor}\\\\\n",
    "\\end{align*}\n",
    "$"
   ]
  },
  {
   "cell_type": "markdown",
   "metadata": {},
   "source": [
    "<a id=\"01\"></a>\n",
    "#### (01) Sensor Specs \n",
    "```python \n",
    "get_sensor_specs(sensor_type,megapixels=None,with_keys=False)```\n",
    "For a given Sensor S and sensor resolution, calculates/retrieves sensor specs. \n",
    "Sensor specs for various sensor types are defined as constants <br>\n",
    "```python\n",
    "SENSORS = [SENSOR_FF,SENSOR_APSC,SENSOR_MFT,SENSOR_MFT32,\n",
    "           SENSOR_1_26,SENSOR_1_26_43,SENSOR_1_INCH]```\n",
    "Specs themselves are defined in variable `DIMENSIONS`. \n",
    "From this, all other relevant sensor specs can be calculated:\n",
    "```python\n",
    "DIMENSIONS = [ DIMENSION_WIDTH,DIMENSION_HEIGHT,DIMENSION_DIAGONAL,\n",
    "               DIMENSION_CROP,DIMENSION_RATIO,DIMENSION_AREA,DIMENSION_PIXEL_WIDTH,\n",
    "               DIMENSION_PIXEL_HEIGHT,DIMENSION_LP_PER_PICTURE_HEIGHT,\n",
    "               DIMENSION_LP_PER_MILIMETER, DIMENSION_PIXEL_NUM_HEIGHT,\n",
    "               DIMENSION_PIXEL_NUM_WIDTH,\n",
    "               DIMENSION_MEGAPIXEL_NUMBER ]\n",
    "```\n",
    "$\n",
    "\\begin{align*}\n",
    "&\\text{Calculations for a given Sensor with specification $S$ with $\\mathit{MP}$ megapixels}\\\\\n",
    "&\\text{Sensor dimensions width $w_S$ and height $h_S$, } \\\\\n",
    "&\\text{sensor ratio $r_S$,Sensor Area $A_S$,diagonal $d_S$,\\\\ Crop Factor $C_S$, circle of confusion $coc_S$}: \n",
    "\\\\ &w_S\n",
    ";\\hspace{1mm}h_S\n",
    ";\\hspace{1mm}r_S=w_S/h_S\n",
    ";\\hspace{1mm}A_S=w_S \\cdot h_S\n",
    ";\\hspace{1mm}d_S=\\sqrt{w_S^2+h_S^2}=w_s \\cdot \\sqrt{1+r_S^{-2}} \\\\\n",
    "&\\hspace{1mm}C_S = \\frac{d_S}{d_{FF}}\n",
    ";\\hspace{1mm}\\mathit{coc}_S=\\frac{d_S}{1500}\\\\\n",
    "&\\text{Number of pixels for width $p_w$ and height $p_h$ on sensor,} \\\\ \n",
    "&\\text{based on calculation of pixel density $\\rho_p$}:\\\\\n",
    "&\\rho_S = \\frac{\\mathit{MP}}{A_S}\n",
    "=\\frac{\\mathit{MP}}{w_S \\cdot h_S}\n",
    "=\\frac{\\mathit{MP} \\cdot r}{w_S^2}\n",
    "=\\frac{p_w \\cdot p_h \\cdot r}{w_S^2}\n",
    "=\\frac{p_w^2}{w_S^2} \\\\\n",
    "&\\Rightarrow p_w = 1000 \\times \\sqrt{\\mathit{MP}\\cdot C_S}; p_h = \\frac{p_w}{r_S}\\\\\n",
    "&\\text{Line pairs $\\mathit{lp/mm}$ per Milimeter and per picture height $\\mathit{lpph}$ }:\\\\\n",
    "&\\mathit{lp/mm} = \\frac{p_h}{2 \\cdot h_S}; \\mathit{lpph} = \\frac{p_h}{2}\\\\\n",
    "&\\text{Pixel pitch pp horizontal and vertical, both are the same}:\\\\\n",
    "&\\mathit{pp_h}=\\frac{\\mathit{w_S}}{p_w}; \\mathit{pp_v}\n",
    "=\\frac{\\mathit{h_S}}{p_h}\n",
    "=\\frac{\\mathit{w_S}}{C_S} \\cdot \\frac{\\mathit{C_S}}{p_w}\n",
    "=\\mathit{pp_h}\n",
    "\\end{align*}\n",
    "$"
   ]
  },
  {
   "cell_type": "code",
   "execution_count": 41,
   "metadata": {
    "scrolled": false
   },
   "outputs": [
    {
     "name": "stdout",
     "output_type": "stream",
     "text": [
      "Dimension Contant Values <DIMENSION_...> : ['Width_mm', 'Height_mm', 'Diagonal_mm', 'Crop_1', 'Ratio_1', 'Area_mm2', 'PixelWidth_um', 'PixelHeight_um', 'LinePairsPerPictureHeight_1PerMM', 'LinePairsPerMilimeter_1PerMM', 'PixelNumHeight_1', 'PixelNumWidth_1', 'MegaPixelNumber_MP']\n",
      "\n",
      "RESULT {Sensor(MegaPixelNumber_MP=24, Sensor='FF'): {'Width_mm': 36.0, 'Height_mm': 24.0, 'Diagonal_mm': 43.27, 'CircleOfConfusion_um': 28.84, 'Crop_1': 1.0, 'Ratio_1': 1.5, 'Area_mm2': 864.0, 'PixelNumWidth_1': 6000, 'PixelNumHeight_1': 4000, 'PixelNumDiagonal_1': 7211, 'PixelWidth_um': 6.0, 'PixelHeight_um': 6.0, 'LinePairsPerMilimeter_1PerMM': 83.33, 'LinePairsPerPictureHeight_1PerMM': 2000.0}}\n",
      "\n",
      "Key is named tuple (so it can be used as hashable key), use unfreeze to get back dict\n",
      "KEYS {'MegaPixelNumber_MP': 24, 'Sensor': 'FF'} \n",
      "VALUES {'Width_mm': 36.0, 'Height_mm': 24.0, 'Diagonal_mm': 43.27, 'CircleOfConfusion_um': 28.84, 'Crop_1': 1.0, 'Ratio_1': 1.5, 'Area_mm2': 864.0, 'PixelNumWidth_1': 6000, 'PixelNumHeight_1': 4000, 'PixelNumDiagonal_1': 7211, 'PixelWidth_um': 6.0, 'PixelHeight_um': 6.0, 'LinePairsPerMilimeter_1PerMM': 83.33, 'LinePairsPerPictureHeight_1PerMM': 2000.0}\n",
      "\n",
      "This pattern goes for all formulas\n"
     ]
    }
   ],
   "source": [
    "# Get the Sensor Specs / returns set of DIMENSION_... variables\n",
    "print(\"Dimension Contant Values <DIMENSION_...> :\",oc.DIMENSIONS)\n",
    "result = o.get_sensor_specs(sensor_spec,megapixels=megapixels,with_keys=True)\n",
    "print(\"\\nRESULT\",result)\n",
    "print(\"\\nKey is named tuple (so it can be used as hashable key), use unfreeze to get back dict\")\n",
    "keys,values = o.unfreeze(result)\n",
    "print(\"KEYS\",keys,\"\\nVALUES\",values)\n",
    "print(\"\\nThis pattern goes for all formulas\")"
   ]
  },
  {
   "cell_type": "markdown",
   "metadata": {},
   "source": [
    "<a id=\"02\"></a>\n",
    "#### (02) Field of View\n",
    "```python \n",
    "get_field_of_view(focal_length,sensor_type=OpticsConstants.SENSOR_FF,\n",
    "                  magnification=0,with_keys=False)```\n",
    "According to image sensor S, returns \n",
    "* field of view $\\alpha$ along sensor directions (diagonal,horizontal,vertical) $ \\hspace{1mm} \\alpha_x \n",
    "= 2 \\times \\arctan(\\frac{x}{2 \\cdot f}) \\ \\{x:d_S,w_S,h_S\\} $ \n",
    "* field of view per sensor length (useful for shift lens) $\\frac{\\alpha_w}{w_S}$\n",
    "* relative area Angle $\\large\\frac{\\Omega}{4\\pi}$ (=fraction of area angle for a sphere, 1 corresponds to sphere area angle)\n",
    "* for the case of additional magnification the effective focal length is calculated by $f_\\textit{eff}=(m+1) \\cdot f$"
   ]
  },
  {
   "cell_type": "code",
   "execution_count": 42,
   "metadata": {
    "scrolled": true
   },
   "outputs": [
    {
     "name": "stdout",
     "output_type": "stream",
     "text": [
      "Dimension Contant Values <DIRECTION_...> : ['DirectionHorizontal', 'DirectionVertical', 'DirectionDiagonal']\n"
     ]
    },
    {
     "data": {
      "text/plain": [
       "{FieldOfView_deg(FocalLength_mm=50, Magnification_1=0, Sensor='FF'): {'DirectionHorizontal': 39.597752709049864,\n",
       "  'DirectionVertical': 26.991466561591622,\n",
       "  'DirectionDiagonal': 46.79627029668992,\n",
       "  'FieldOfView_DegPerMm': 1.0999375752513851,\n",
       "  'SolidAngle_4Pi': 0.0059905828606732,\n",
       "  'EffectiveFocalLength_mm': 50}}"
      ]
     },
     "execution_count": 42,
     "metadata": {},
     "output_type": "execute_result"
    }
   ],
   "source": [
    "importlib.reload(optics.optics_formulas)\n",
    "print(\"Dimension Contant Values <DIRECTION_...> :\",oc.DIRECTIONS)\n",
    "o.get_field_of_view(focal_length=f,sensor_type=sensor_spec,with_keys=True)"
   ]
  },
  {
   "cell_type": "markdown",
   "metadata": {},
   "source": [
    "<a id=\"03\"></a>\n",
    "#### (03) Focal length $f$ and Field of View $\\alpha$ \n",
    "```python \n",
    "get_focal4distance(obj_dist,obj_height,sensor_type=OpticsConstants.SENSOR_FF,\n",
    "                   dimension=OpticsConstants.DIMENSION_WIDTH,with_keys=False)```\n",
    "For given object distance $d_O$, image height $h_I$, object height $h_O$ <br> \n",
    "and sensor dimension $d_S$ (width,height,diagonal), <br>\n",
    "focal length $f$ is calculated by \n",
    "$\\large f = \\frac{h_I \\cdot d_O}{h_I + h_O}$\n"
   ]
  },
  {
   "cell_type": "code",
   "execution_count": 43,
   "metadata": {},
   "outputs": [
    {
     "name": "stdout",
     "output_type": "stream",
     "text": [
      "{FocalForDistance_mm(Direction='DirectionDiagonal', ImageHeight=0.04327, ObjectDistance=1, ObjectHeight=0.5, Sensor='FF'): {'FocalLength_mm': 79.65, 'FieldOfView_deg': 30.392730123650328}}\n",
      "{FocalForDistance_mm(Direction='DirectionVertical', ImageHeight=0.024, ObjectDistance=1, ObjectHeight=0.5, Sensor='FF'): {'FocalLength_mm': 45.8, 'FieldOfView_deg': 29.36393548278722}}\n",
      "{FocalForDistance_mm(Direction='DirectionHorizontal', ImageHeight=0.036, ObjectDistance=1, ObjectHeight=0.5, Sensor='FF'): {'FocalLength_mm': 67.16, 'FieldOfView_deg': 30.007214973106752}}\n"
     ]
    }
   ],
   "source": [
    "# check focal length in different directions\n",
    "dims = [oc.DIMENSION_DIAGONAL,oc.DIMENSION_HEIGHT,oc.DIMENSION_WIDTH]\n",
    "for direction in dims:\n",
    "    print(o.get_focal4distance(obj_dist=o_distance,obj_height=o_height, \\\n",
    "            dimension=direction, sensor_type=sensor_spec,with_keys=True))"
   ]
  },
  {
   "cell_type": "markdown",
   "metadata": {},
   "source": [
    "<a id=\"04a\"></a>\n",
    "#### (04a) Depth of View (DOF)\n",
    "```python \n",
    "get_dof(f,k,sensor_type=OpticsConstants.SENSOR_FF,distance=None,with_keys=False)```\n",
    "Depth of View Calculation (DOF) with $d_h$ Hyperfocal Distance, $d_N,d_F$ near Point and Far Point and  Depth of Field $\\mathit{DOF}$ : <br>\n",
    "$\n",
    "\\begin{align*}\n",
    "&[\\text{04.1}] \\ \\boxed{d_h = \\frac{f^2}{k \\cdot \\mathit{coc} + f}} \\\\\n",
    "&[\\text{04.2/04.3}] \\ d_N = \\frac{d_O \\cdot (d_h - f)}{(d_h - f) + (d_O - f) }; \\ \n",
    "&d_F =     \n",
    "\\begin{cases}\n",
    "       \\large\\frac{d_O \\cdot (d_h - f)}{(d_h - f) - (d_O - f) } & \\text{ for $d_O$ < $d_H$  } \\\\\n",
    "        \\infty & \\text{ for $d_O$ >= $d_H$  } \\\\\n",
    "\\end{cases} \\\\\n",
    "\\\\\n",
    "&[\\text{04.4}] \\ \\boxed{ \\mathit{DOF} = d_F - d_N }  \\\\\n",
    "\\end{align*}\n",
    "$\n",
    "\n"
   ]
  },
  {
   "cell_type": "code",
   "execution_count": 44,
   "metadata": {},
   "outputs": [
    {
     "name": "stdout",
     "output_type": "stream",
     "text": [
      "Result: {DepthOfField_m(ApertureNumber_1=4, FocalLength_mm=50, ObjectDistance=1, Sensor='FF'): {'CircleOfConfusion_um': 28.84, 'NearPoint_m': 0.958, 'FarPoint_m': 1.046, 'HyperfocalDistance_m': 21.721, 'DepthOfField_m': 0.088}}\n",
      "\n",
      "Note, key is named tuple (so it can be used as dict key):\n",
      " DepthOfField_m(ApertureNumber_1=4, FocalLength_mm=50, ObjectDistance=1, Sensor='FF')\n",
      "\n",
      "Get keys back with _asdict():\n",
      " {'ApertureNumber_1': 4, 'FocalLength_mm': 50, 'ObjectDistance': 1, 'Sensor': 'FF'}\n",
      "\n",
      "Use the unfreeze method to do that for you\n",
      " ({'ApertureNumber_1': 4, 'FocalLength_mm': 50, 'ObjectDistance': 1, 'Sensor': 'FF'}, {'CircleOfConfusion_um': 28.84, 'NearPoint_m': 0.958, 'FarPoint_m': 1.046, 'HyperfocalDistance_m': 21.721, 'DepthOfField_m': 0.088})\n"
     ]
    }
   ],
   "source": [
    "# calculate dof, key is returned as sorted tuple\n",
    "result = o.get_dof(f,k,sensor_type=sensor_spec,distance=o_distance,with_keys=True)\n",
    "print(\"Result:\",result)\n",
    "key = list(result.keys())[0]\n",
    "print(\"\\nNote, key is named tuple (so it can be used as dict key):\\n\",key)\n",
    "print(\"\\nGet keys back with _asdict():\\n\",dict(key._asdict()))\n",
    "print(\"\\nUse the unfreeze method to do that for you\\n\",o.unfreeze(result))"
   ]
  },
  {
   "cell_type": "markdown",
   "metadata": {},
   "source": [
    "<a id=\"04b\"></a>\n",
    "#### (04b) Get Aperture for Depth of View (DOF)\n",
    "```python \n",
    "get_aperture_for_dof(f,distance,dof,sensor_type=OpticsConstants.SENSOR_FF,with_keys=False)```\n",
    "Calculates required aperture for given $\\mathit{DOF}$ and aperture $k$ : <br>\n",
    "$\n",
    "\\begin{align*}\n",
    "&[\\text{04.5}] \\ k = f^2 \\cdot \\frac{\\sqrt{d_O^2+\\mathit{DOF}^2}-d_O}{\\mathit{DOF} \\cdot \\mathit{coc} \\cdot (d_O-f)} \\\\\n",
    "\\end{align*}\n",
    "$"
   ]
  },
  {
   "cell_type": "code",
   "execution_count": 45,
   "metadata": {},
   "outputs": [
    {
     "data": {
      "text/plain": [
       "({'DepthOfField_m': 0.1,\n",
       "  'FocalLength_mm': 50,\n",
       "  'ObjectDistance': 1,\n",
       "  'Sensor': 'FF'},\n",
       " {'CircleOfConfusion_um': 28.84, 'ApertureNumber_1': 4.551027549537332})"
      ]
     },
     "execution_count": 45,
     "metadata": {},
     "output_type": "execute_result"
    }
   ],
   "source": [
    "dof = 0.1\n",
    "o.unfreeze(o.get_aperture_for_dof(f,distance=o_distance,dof=dof,sensor_type=sensor_spec,with_keys=True))"
   ]
  },
  {
   "cell_type": "markdown",
   "metadata": {},
   "source": [
    "<a id=\"05\"></a>\n",
    "#### (05) Equivalent Focal Length\n",
    "```python \n",
    "get_equivalent_focal_length(fov,sensor_type=OpticsConstants.SENSOR_FF,\n",
    "direction=OpticsConstants.DIRECTION_HORI,with_keys=False)```\n",
    "Equivalent focal length for given sensor $S$ , given direction and field of view $\\alpha$ :<br>\n",
    "$\n",
    "\\begin{align*}\n",
    "f = \\frac{x}{2 \\cdot tan\\left(\\frac{\\alpha}{2}\\right)} \\ \\{x:d_S,w_S,h_S\\}    \n",
    "\\end{align*} \\\\\n",
    "$\n",
    "<br>Returns sensor length in given direction and focal length"
   ]
  },
  {
   "cell_type": "code",
   "execution_count": 46,
   "metadata": {},
   "outputs": [
    {
     "data": {
      "text/plain": [
       "{EquivalentFocalLength_mm(Direction='DirectionDiagonal', FieldOfView_deg=50, Sensor='FF'): {'Dimension': 'Diagonal_mm',\n",
       "  'Length_mm': 43.27,\n",
       "  'FocalLength_mm': 46.0}}"
      ]
     },
     "execution_count": 46,
     "metadata": {},
     "output_type": "execute_result"
    }
   ],
   "source": [
    "fov=50 #degrees field of view\n",
    "o.get_equivalent_focal_length(fov=fov,sensor_type=sensor_spec,\n",
    "direction=oc.DIRECTION_DIAG,with_keys=True)"
   ]
  },
  {
   "cell_type": "markdown",
   "metadata": {},
   "source": [
    "<a id=\"06\"></a>\n",
    "#### (06) Equivalent Focal Length after Crop was applied  \n",
    "```python \n",
    "get_crop_focal_length_equivalent(f,crop,sensor_type=OpticsConstants.SENSOR_FF,\n",
    "                           direction=OpticsConstants.DIRECTION_HORI,with_keys=False)```\n",
    "Equivalent Focal Length after Crop was applied: returns both focal length in native <br>\n",
    "sensor format and full frame equivalent focal length as well as field of view for cropped image. <br>\n",
    "Crop factor $c\\$: Value between 0 and 1 (1:No Crop 0:Cropped into nothing)<br>\n",
    "\n",
    "$\n",
    "\\begin{align*}\n",
    "f(S)_{eq} &= \\frac{c \\cdot x}{2 \\cdot tan\\left(\\frac{\\alpha}{2}\\right)} \\ \\{x:d_S,w_S,h_S\\}; \\\n",
    "f(S)_{\\text{eq_FF}} = C_S \\cdot f(S)_{eq} \\\\    \n",
    "\\alpha_\\text{x_eq}\n",
    " &= 2 \\cdot \\arctan\\left(\\frac{c \\cdot x}{2 \\cdot f}\\right) \\ \\\n",
    "\\end{align*}\\\\\n",
    "$        "
   ]
  },
  {
   "cell_type": "code",
   "execution_count": 47,
   "metadata": {},
   "outputs": [
    {
     "data": {
      "text/plain": [
       "{CropFocalLengthEquivalent_mm(Crop=0.1, Direction='DirectionHorizontal', FocalLength_mm=50, Sensor='APSC'): {'Dimension': 'Width_mm',\n",
       "  'LengthCropped_mm': 2.37,\n",
       "  'Crop': 1.52,\n",
       "  'FieldOfView_deg': 2.72,\n",
       "  'CropFocalLengthEquivalent_mm': 499.0,\n",
       "  'FocalLengthFullFrame_mm': 758.5}}"
      ]
     },
     "execution_count": 47,
     "metadata": {},
     "output_type": "execute_result"
    }
   ],
   "source": [
    "crop = 0.1\n",
    "o.get_crop_focal_length_equivalent(f=50,crop=crop,sensor_type=oc.SENSOR_APSC,\n",
    "                                   direction=oc.DIRECTION_HORI,with_keys=True)"
   ]
  },
  {
   "cell_type": "markdown",
   "metadata": {},
   "source": [
    "<a id=\"07\"></a>\n",
    "#### (07) Diffraction Disc Diameter in $\\mu m$ for given aperture number $k$ and wavelength $\\lambda \\hspace{1mm} (\\mu m)$\n",
    "```python \n",
    "get_diffraction_disc_diameter(k,lambda_nm=OpticsConstants.STANDARD_WAVELENGTH,with_keys=False)```\n",
    "Diffraction disc diameter in $\\mu m$ for given aperture number and wavelength $\\lambda$ (default 550nm): \n",
    "$\n",
    "\\begin{align*}\n",
    "d = 1,22 \\cdot \\lambda \\cdot k\n",
    "\\end{align*}\\\\\n",
    "$  "
   ]
  },
  {
   "cell_type": "code",
   "execution_count": 48,
   "metadata": {},
   "outputs": [
    {
     "data": {
      "text/plain": [
       "{DiffractionDiscDiameter_um(ApertureNumber_1=4, WaveLength_nm=550): {'DiffractionDiscDiameter_um': 2.684}}"
      ]
     },
     "execution_count": 48,
     "metadata": {},
     "output_type": "execute_result"
    }
   ],
   "source": [
    "o.get_diffraction_disc_diameter(k,lambda_nm=oc.STANDARD_WAVELENGTH,with_keys=True)\n"
   ]
  },
  {
   "cell_type": "markdown",
   "metadata": {},
   "source": [
    "<a id=\"08\"></a>\n",
    "#### (08) Optimum Aperture\n",
    "```python \n",
    "get_optimum_aperture(sensor_type=OpticsConstants.SENSOR_FF,\n",
    "                             lambda_nm=OpticsConstants.STANDARD_WAVELENGTH,\n",
    "                             magnification=0,coc=None,with_keys=False)```\n",
    "                             \n",
    "Effective Optimum Aperture ( coc in the range of Diffraction) and nominal optimum aperture: <br>\n",
    "$\n",
    "\\begin{align*}\n",
    "\\mathit{coc} \\approx d \\Rightarrow \n",
    "k_\\text{eff_opt} = \\frac{\\text{coc}}{1,22 \\cdot \\lambda}; \n",
    "\\ k_\\text{nom_opt} = \\frac{k_\\text{eff_opt}}{1+m}\n",
    "\\end{align*}\n",
    "$\n",
    "<br>If $\\textit{coc}$ is None, it wil be calculated from $\\textit{sensor diagonal / 1500}$"
   ]
  },
  {
   "cell_type": "code",
   "execution_count": 49,
   "metadata": {},
   "outputs": [
    {
     "data": {
      "text/plain": [
       "{OptimumAperture_1(Magnification_1=1, Sensor='FF', WaveLength_nm=550): {'CircleOfConfusion_um': 28.84,\n",
       "  'EffectiveAperture_1': 42.9806259314456,\n",
       "  'NominalAperture_1': 21.4903129657228}}"
      ]
     },
     "execution_count": 49,
     "metadata": {},
     "output_type": "execute_result"
    }
   ],
   "source": [
    "o.get_optimum_aperture(sensor_type=sensor_spec,\n",
    "                             lambda_nm=oc.STANDARD_WAVELENGTH,\n",
    "                             magnification=1,coc=None,with_keys=True)"
   ]
  },
  {
   "cell_type": "markdown",
   "metadata": {},
   "source": [
    "<a id=\"09\"></a>\n",
    "#### (09) Magnification Factor (Based on lens equation)\n",
    "```python \n",
    "get_magnification(distance,f,with_keys=False)```\n",
    "Magnification (based on lens equation):\n",
    "$\n",
    "m = \\frac{1}{\\large{\\frac{d_O}{f}}-1}\n",
    "$"
   ]
  },
  {
   "cell_type": "code",
   "execution_count": 50,
   "metadata": {},
   "outputs": [
    {
     "data": {
      "text/plain": [
       "{Magnification_1(FocalLength_mm=50, ObjectDistance=1): {'Magnification_1': 0.05263157894736842}}"
      ]
     },
     "execution_count": 50,
     "metadata": {},
     "output_type": "execute_result"
    }
   ],
   "source": [
    "o.get_magnification(distance=o_distance,f=f,with_keys=True)"
   ]
  },
  {
   "cell_type": "markdown",
   "metadata": {},
   "source": [
    "<a id=\"10\"></a>\n",
    "#### (10) Optimum Aperture Pixel Pitch\n",
    "```python \n",
    "get_optimum_aperture_pixel_pitch(sensor_type=OpticsConstants.SENSOR_FF,\n",
    "                                 megapixels=24,lambda_nm=OpticsConstants.STANDARD_WAVELENGTH,\n",
    "                                 magnification=0,with_keys=False)```\n",
    "Calculates aperture, so that the circle of confusion will fit into a single pixel (see formula 8 above) <br>\n",
    "$\n",
    "\\begin{align*}\n",
    "\\mathit{pp(S)} \\approx \\mathit{coc} \\Rightarrow\n",
    "k_\\text{opt_pp} = \\frac{\\mathit{pp(S)}}{1,22 \\cdot \\lambda}; \n",
    "\\ k_\\text{nom_opt_pp} = \\frac{k_\\mathit{opt\\_pp}}{1+m}\n",
    "\\end{align*}\n",
    "$\n"
   ]
  },
  {
   "cell_type": "code",
   "execution_count": 51,
   "metadata": {},
   "outputs": [
    {
     "data": {
      "text/plain": [
       "{OptimumAperturePixelPitch_um(Magnification_1=0.5, NumberPixels_1=24, Sensor='FF', WaveLength_nm=550): {'CircleOfConfusion_um': 28.84,\n",
       "  'PixelWidth_um': 6.0,\n",
       "  'OptimumApertureCoC_1': {'CircleOfConfusion_um': 28.84,\n",
       "   'EffectiveAperture_1': 42.9806259314456,\n",
       "   'NominalAperture_1': 28.653750620963734},\n",
       "  'OptimumAperturePixelPitch_um': {'CircleOfConfusion_um': 6.0,\n",
       "   'EffectiveAperture_1': 8.941877794336811,\n",
       "   'NominalAperture_1': 5.961251862891207}}}"
      ]
     },
     "execution_count": 51,
     "metadata": {},
     "output_type": "execute_result"
    }
   ],
   "source": [
    "magnification = 0.5\n",
    "o.get_optimum_aperture_pixel_pitch(sensor_type=sensor_spec,\n",
    "                                 megapixels=megapixels,lambda_nm=oc.STANDARD_WAVELENGTH,\n",
    "                                 magnification=magnification,with_keys=True)"
   ]
  },
  {
   "cell_type": "markdown",
   "metadata": {},
   "source": [
    "<a id=\"11a\"></a>\n",
    "#### (11a) Exposure Value\n",
    "```python \n",
    "get_exposure_value(t=1.,k=1.,iso=100.,with_keys=False)```\n",
    "Calculates exposure value at ISO100 and other sensitivities:<br>\n",
    "$\n",
    "\\begin{align*}\n",
    "\\mathit{EV}_\\text{100} &= \\mathit{EV}_{AV} + \\mathit{EV}_{TV} \n",
    "= log_2k^2 + log_2\\frac{1}{t} \\\\\n",
    "\\mathit{EV}_\\text{ISO} &= \\mathit{EV}_\\text{100} + \\mathit{EV}_{SV} =  \\mathit{EV}_\\text{100} + log_2\\frac{\\text{ISO}}{100} \\\\\n",
    "&= \\mathit{EV}_{AV} + \\mathit{EV}_{TV} + \\mathit{EV}_{SV} \\\\\n",
    "\\mathit{EV}_\\text{ISO} &= log_2k^2 + log_2\\frac{1}{t} + log_2\\frac{\\text{ISO}}{100}\n",
    "\\end{align*}\n",
    "$"
   ]
  },
  {
   "cell_type": "code",
   "execution_count": 52,
   "metadata": {},
   "outputs": [
    {
     "data": {
      "text/plain": [
       "{ExposureValue_1(ApertureNumber_1=4, ISO=200, Time_s=0.5): {'ExposureAperture_1': 4.0,\n",
       "  'ExposureTime_s': 1.0,\n",
       "  'ExposureSensitivity_1': 1.0,\n",
       "  'ExposureValue_1': 6.0,\n",
       "  'ExposureValue@ISO100_1': 5.0}}"
      ]
     },
     "execution_count": 52,
     "metadata": {},
     "output_type": "execute_result"
    }
   ],
   "source": [
    "exp_t = 1/2\n",
    "exp_k = 4\n",
    "exp_iso = 200\n",
    "exp_ev = 10\n",
    "o.get_exposure_value(t=exp_t,k=exp_k,iso=exp_iso,with_keys=True)"
   ]
  },
  {
   "cell_type": "markdown",
   "metadata": {},
   "source": [
    "<a id=\"11b\"></a>\n",
    "#### (11b) Exposure Time\n",
    "```python \n",
    "get_exposure_time(ev=10.,k=1.,iso=100.,with_keys=False)```\n",
    "Calculates exposure time $t$ from exposure value formula <br>\n",
    "$\n",
    "\\begin{align*}\n",
    "&\\mathit{EV}_{TV} = \\mathit{EV}_\\text{ISO} - \\mathit{EV}_{AV} - \\mathit{EV}_{SV} = log_2\\frac{1}{t} \n",
    "\\Rightarrow t = \\frac{1}{\\large 2^{\\mathit{EV}_{TV}}}\n",
    "\\end{align*}\n",
    "$"
   ]
  },
  {
   "cell_type": "code",
   "execution_count": 53,
   "metadata": {},
   "outputs": [
    {
     "data": {
      "text/plain": [
       "{ExposureTime_s(ApertureNumber_1=4, ExposureValue_1=10, ISO=200): {'ExposureAperture_1': 4.0,\n",
       "  'ExposureSensitivity_1': 1.0,\n",
       "  'ExposureTime_s': 5.0,\n",
       "  'Time_s': 0.03125}}"
      ]
     },
     "execution_count": 53,
     "metadata": {},
     "output_type": "execute_result"
    }
   ],
   "source": [
    "o.get_exposure_time(ev=exp_ev,k=exp_k,iso=exp_iso,with_keys=True)"
   ]
  },
  {
   "cell_type": "markdown",
   "metadata": {},
   "source": [
    "<a id=\"11c\"></a>\n",
    "#### (11c) Exposure Aperture\n",
    "```python \n",
    "get_exposure_aperture(ev=10.,t=1.,iso=100.,with_keys=False)```\n",
    "Calculates exposure aperture $k$ from exposure value formula <br>\n",
    "$\n",
    "\\begin{align*}\n",
    "\\mathit{EV}_{AV} &= \\mathit{EV}_\\text{ISO} - \\mathit{EV}_{TV} - \\mathit{EV}_{SV} = log_2k^2\n",
    "\\Rightarrow k= \\sqrt{\\large 2^{\\mathit{EV}_{AV}}}\n",
    "\\end{align*}\n",
    "$"
   ]
  },
  {
   "cell_type": "code",
   "execution_count": 54,
   "metadata": {},
   "outputs": [
    {
     "data": {
      "text/plain": [
       "{ExposureAperture_1(ExposureValue_1=10, ISO=200, Time_s=0.5): {'ExposureTime_s': 1.0,\n",
       "  'ExposureSensitivity_1': 1.0,\n",
       "  'ExposureAperture_1': 8.0,\n",
       "  'ApertureNumber_1': 16.0}}"
      ]
     },
     "execution_count": 54,
     "metadata": {},
     "output_type": "execute_result"
    }
   ],
   "source": [
    "o.get_exposure_aperture(ev=exp_ev,t=exp_t,iso=exp_iso,with_keys=True)"
   ]
  },
  {
   "cell_type": "markdown",
   "metadata": {},
   "source": [
    "<a id=\"11d\"></a>\n",
    "#### (11d) Exposure Sensitivity\n",
    "```python \n",
    "get_exposure_sensitivity(ev=10.,k=16.,t=1.,with_keys=False)```\n",
    "Calculates sensitivity $\\text{ISO}$ from exposure value formula <br>\n",
    "$\n",
    "\\begin{align*}\n",
    "\\mathit{EV}_{SV} = \\mathit{EV}_\\text{ISO} - \\mathit{EV}_{AV} - \\mathit{EV}_{TV} = log_2\\frac{\\text{ISO}}{100}\n",
    "\\Rightarrow \\text{ISO} = 100 \\times \\large 2^{\\mathit{EV}_{SV}}\n",
    "\\end{align*}\n",
    "$\n"
   ]
  },
  {
   "cell_type": "code",
   "execution_count": 55,
   "metadata": {},
   "outputs": [
    {
     "data": {
      "text/plain": [
       "{ExposureSensitivity_1(ApertureNumber_1=4, ExposureValue_1=10, Time_s=0.5): {'ExposureTime_s': 1.0,\n",
       "  'ExposureAperture_1': 4.0,\n",
       "  'ExposureSensitivity_1': 5.0,\n",
       "  'ISO': 3200.0}}"
      ]
     },
     "execution_count": 55,
     "metadata": {},
     "output_type": "execute_result"
    }
   ],
   "source": [
    "o.get_exposure_sensitivity(ev=exp_ev,k=exp_k,t=exp_t,with_keys=True)"
   ]
  },
  {
   "cell_type": "markdown",
   "metadata": {},
   "source": [
    "<a id=\"12\"></a>\n",
    "#### (12) Aperture Number Series\n",
    "```python \n",
    "get_aperture_number(start_aperture=2.8,stop_width=4,num_stops=2,with_keys=False)```\n",
    "Help function to calculate Aperture Number for a given number of f Stop Fractions and a starting Aperture Number, see the example below.\n",
    "* startAperture: Start Aperture\n",
    "* stopWidth: number of stops for single f Stop, eg use stopWidth = 3 for 1/3 of a stop\n",
    "* numStops: Number of stopWidths\n",
    "Examples: fStop(1,1,1)=1,4; fStop(1,1,2)=2; fStop(1.4,1,1)=2; fStop(1,3,3)=1.4 , ...\n"
   ]
  },
  {
   "cell_type": "code",
   "execution_count": 56,
   "metadata": {},
   "outputs": [
    {
     "name": "stdout",
     "output_type": "stream",
     "text": [
      "{'FStopFactor_1': 1.1885022274370185, 'ApertureNumber_1': 2.8}\n",
      "{'FStopFactor_1': 1.1885022274370185, 'ApertureNumber_1': 3.3}\n",
      "{'FStopFactor_1': 1.1885022274370185, 'ApertureNumber_1': 4.0}\n",
      "{'FStopFactor_1': 1.1885022274370185, 'ApertureNumber_1': 4.7}\n",
      "{'FStopFactor_1': 1.1885022274370185, 'ApertureNumber_1': 5.6}\n",
      "{'FStopFactor_1': 1.1885022274370185, 'ApertureNumber_1': 6.6}\n",
      "{'FStopFactor_1': 1.1885022274370185, 'ApertureNumber_1': 7.9}\n",
      "{'FStopFactor_1': 1.1885022274370185, 'ApertureNumber_1': 9.4}\n"
     ]
    }
   ],
   "source": [
    "f_start = 2.8 #start aperture\n",
    "stop_width = 2 #half stops\n",
    "for num_stop in range(0,8):    \n",
    "    print(o.get_aperture_number(start_aperture=f_start,stop_width=stop_width,num_stops=num_stop,with_keys=False))"
   ]
  },
  {
   "cell_type": "markdown",
   "metadata": {},
   "source": [
    "<a id=\"13\"></a>\n",
    "#### (13) Closeup Focal Length\n",
    "```python \n",
    "get_closeup_focal_length(f,D,with_keys=False)```\n",
    "Clculate focal length of diopter $f_D$ and resulting close up focal length.\n",
    "$\n",
    "\\begin{align*}\n",
    "f_D &= \\frac{1000}{D}; f_c = \\large{\\frac{1}{\\frac{1}{f}+\\frac{1}{f_D}}}\n",
    "\\end{align*}\n",
    "$"
   ]
  },
  {
   "cell_type": "code",
   "execution_count": 57,
   "metadata": {},
   "outputs": [
    {
     "data": {
      "text/plain": [
       "{CloseupFocalLength_mm(Diopters_1perm=5, FocalLength_mm=50): {'FocalLengthDiopter_mm': 200.0,\n",
       "  'FocalLengthCloseUp_mm': 40.0}}"
      ]
     },
     "execution_count": 57,
     "metadata": {},
     "output_type": "execute_result"
    }
   ],
   "source": [
    "diopter = 5 # 1/5m = 200mm focal length\n",
    "o.get_closeup_focal_length(f=f,D=diopter,with_keys=True)"
   ]
  },
  {
   "cell_type": "markdown",
   "metadata": {},
   "source": [
    "<a id=\"14\"></a>\n",
    "#### (14) Closeup Magnification at Distance \n",
    "```python \n",
    "get_closeup_magnification_at_distance(f,D,distance=inf,with_keys=False)```\n",
    "Close up lens magnification at focussing distance infinity $m_\\infty$ and given distance $m_d$ : <br>\n",
    "$\n",
    "\\begin{align*}\n",
    "m_\\infty = f / f_D = \\frac{f \\times D} {1000}; \\\n",
    "m_d = \\frac{f \\cdot (d_O+f_D)}{f_D \\cdot (d_O-f)}\n",
    "= m_\\infty \\cdot \\frac{(d_O+f_D)}{(d_O-f)}\n",
    "\\end{align*}\n",
    "$"
   ]
  },
  {
   "cell_type": "code",
   "execution_count": 58,
   "metadata": {},
   "outputs": [
    {
     "data": {
      "text/plain": [
       "{CloseupMagnification_1(Diopters_1perm=5, FocalLength_mm=50, ObjectDistance=inf): {'FocalLengthDiopter_mm': 200.0,\n",
       "  'CloseupMagnification_1': 0.25}}"
      ]
     },
     "execution_count": 58,
     "metadata": {},
     "output_type": "execute_result"
    }
   ],
   "source": [
    "from math import inf\n",
    "o.get_closeup_magnification_at_distance(f=f,D=diopter,distance=inf,with_keys=True)"
   ]
  },
  {
   "cell_type": "markdown",
   "metadata": {},
   "source": [
    "<a id=\"15\"></a>\n",
    "#### (15) Closeup Magnification \n",
    "```python \n",
    "get_extension_closeup_magnification(f,extension=0.,D=0,magnificaton_lens=0.,with_keys=False)```\n",
    "Magnification for tube extension e and close up lens combined of lens with native lens magnification $m_L$ <br>\n",
    "$\n",
    "\\begin{align*}\n",
    "m_e = m_L + \\frac{f}{f_D} \\cdot \\left(1+m_L\\right) + e \\cdot \\left( \\frac{1}{f} + \\frac{1}{f_D}\\right)\n",
    "\\end{align*}\n",
    "$\n"
   ]
  },
  {
   "cell_type": "code",
   "execution_count": 59,
   "metadata": {},
   "outputs": [
    {
     "data": {
      "text/plain": [
       "{CloseupMagnificationExtension_1(Diopters_1perm=5, Extension_mm=10, FocalLength_mm=50, MagnificationLens_1=0.25): {'FocalLengthDiopter_mm': 200.0,\n",
       "  'CloseupMagnificationExtension_1': 0.8125}}"
      ]
     },
     "execution_count": 59,
     "metadata": {},
     "output_type": "execute_result"
    }
   ],
   "source": [
    "extension = 10\n",
    "magnification_lens = 0.25\n",
    "o.get_extension_closeup_magnification(f=f,extension=extension,D=diopter,\n",
    "                                      magnificaton_lens=magnification_lens,with_keys=True)"
   ]
  },
  {
   "cell_type": "markdown",
   "metadata": {},
   "source": [
    "<a id=\"16\"></a>\n",
    "#### (16) Depth of Field DOF for Macro\n",
    "```python \n",
    "get_dof_macro(k,magnification,sensor_type=OpticsConstants.SENSOR_FF,with_keys=False)```\n",
    "Calculate depth of field for macro case with effective aperture $k_\\mathit{eff}$ <br>\n",
    "$\n",
    "\\begin{align*}\n",
    "k_\\mathit{eff}=k \\cdot (m + 1);\n",
    "\\ \\mathit{DOF}_M = \\frac{2 \\cdot k_\\mathit{eff} \\cdot \\mathit{coc}}\n",
    "                   {m^2}\n",
    "\\end{align*}\n",
    "$\n"
   ]
  },
  {
   "cell_type": "code",
   "execution_count": 60,
   "metadata": {},
   "outputs": [
    {
     "data": {
      "text/plain": [
       "{DepthOfFieldMacro_mm(ApertureNumber_1=4, MagnificationLens_1=1, Sensor='FF'): {'CircleOfConfusion_um': 0.02884,\n",
       "  'EffectiveAperture_1': 8,\n",
       "  'DepthOfFieldMacro_mm': 0.46144}}"
      ]
     },
     "execution_count": 60,
     "metadata": {},
     "output_type": "execute_result"
    }
   ],
   "source": [
    "magnification_lens = 1\n",
    "o.get_dof_macro(k=k,magnification=magnification_lens,sensor_type=sensor_spec,with_keys=True)"
   ]
  },
  {
   "cell_type": "markdown",
   "metadata": {},
   "source": [
    "<a id=\"17\"></a>\n",
    "#### (17) Fisheye Projection\n",
    "```python \n",
    "get_fisheye_projection(f,alpha=0,projection=OpticsConstants.PROJECTION_RECTILINEAR,\n",
    "                       anglefactor=None,with_keys=False)```\n",
    "Projection is defined by constants <br>\n",
    "```python \n",
    "PROJECTIONS = [ PROJECTION_RECTILINEAR,PROJECTION_STEREOGRAPHIC,\n",
    "                PROJECTION_EQUIDISTANT,PROJECTION_ORTHOGRAPHIC,\n",
    "                PROJECTION_EQUISOLID ]```\n",
    "Fisheye lens projections are defined as follows ($\\alpha$ being the incident angle between normal of lens surface and incident ray ):                   \n",
    "$\n",
    "\\begin{align*}\n",
    "[17a]\\ r &= f \\cdot \\alpha \\ &\\text{Equidistant Projection}\\\\\n",
    "[17b]\\ r &= f \\cdot sin(\\alpha) \\ &\\text{Orthographic Projection}\\\\\n",
    "[17c]\\ r &= f \\cdot tan(\\alpha) \\ &\\text{Rectilinear Projection}\\\\\n",
    "[17d]\\ r &= \\lambda \\cdot f \\cdot sin\\begin{pmatrix} \\large\\frac{\\alpha}{\\lambda} \\end{pmatrix} \\hspace{1mm} &\\text{Equisolid Projection}\\\\\n",
    "[17e]\\ r &= \\lambda \\cdot f \\cdot tan\\begin{pmatrix} \\large\\frac{\\alpha}{\\lambda} \\end{pmatrix} \\hspace{1mm} &\\text{Stereographic Projection}\\\\\n",
    "\\end{align*}\n",
    "$                       "
   ]
  },
  {
   "cell_type": "code",
   "execution_count": 5,
   "metadata": {},
   "outputs": [
    {
     "name": "stdout",
     "output_type": "stream",
     "text": [
      "ANGLE: 0 {'AngleFactor': 2.7, 'ImageProjectionMM': 0.0} DRIFT: 0.0\n",
      "ANGLE: 10 {'AngleFactor': 2.7, 'ImageProjectionMM': 1.3982114503398944} DRIFT: 1.3982114503398944\n",
      "ANGLE: 20 {'AngleFactor': 2.7, 'ImageProjectionMM': 2.808189871460603} DRIFT: 1.4099784211207085\n",
      "ANGLE: 30 {'AngleFactor': 2.7, 'ImageProjectionMM': 4.2421017066163005} DRIFT: 1.4339118351556976\n",
      "ANGLE: 40 {'AngleFactor': 2.7, 'ImageProjectionMM': 5.712941511781323} DRIFT: 1.4708398051650224\n",
      "ANGLE: 50 {'AngleFactor': 2.7, 'ImageProjectionMM': 7.235022644686003} DRIFT: 1.5220811329046802\n",
      "ANGLE: 60 {'AngleFactor': 2.7, 'ImageProjectionMM': 8.824571046765922} DRIFT: 1.5895484020799184\n",
      "ANGLE: 70 {'AngleFactor': 2.7, 'ImageProjectionMM': 10.500477460590115} DRIFT: 1.675906413824194\n",
      "ANGLE: 80 {'AngleFactor': 2.7, 'ImageProjectionMM': 12.285287002494133} DRIFT: 1.7848095419040177\n",
      "ANGLE: 90 {'AngleFactor': 2.7, 'ImageProjectionMM': 14.20654348775773} DRIFT: 1.921256485263596\n"
     ]
    }
   ],
   "source": [
    "f_fisheye = 8\n",
    "projection = oc.PROJECTION_STEREOGRAPHIC\n",
    "factor = 2.7\n",
    "o.get_fisheye_projection(f=f_fisheye,alpha=0,projection=projection,\n",
    "                       anglefactor=factor,with_keys=False)\n",
    "previous = 0\n",
    "for alpha in range(0,100,10):   \n",
    "    projection_r = o.get_fisheye_projection(f=f_fisheye,alpha=alpha,projection=projection,\n",
    "                       anglefactor=factor,with_keys=False)[oc.IMAGE_PROJECTION]\n",
    "    drift = projection_r - previous\n",
    "    print(\"ANGLE:\",alpha,o.get_fisheye_projection(f=f_fisheye,alpha=alpha,projection=projection,\n",
    "                       anglefactor=factor,with_keys=False),\"DRIFT:\",drift)\n",
    "    previous = projection_r"
   ]
  },
  {
   "cell_type": "markdown",
   "metadata": {},
   "source": [
    "<a id=\"18\"></a>\n",
    "#### (18) Fisheye Lens Projection\n",
    "```python \n",
    "get_fisheye_lens_projection(lens,alpha,with_keys=False)````\n",
    "Returns Fisheye Projections for a selected list of fisheye lenses:\n",
    "```python\n",
    "LENSES = [ LENS_SAMYANG8, LENS_SAMYANG75, LENS_MEIKE65,LENS_SIGMA8F35,\n",
    "           LENS_CANON15,LENS_NIKON10,LENS_MADOKA ]\n",
    "```"
   ]
  },
  {
   "cell_type": "code",
   "execution_count": 3,
   "metadata": {
    "scrolled": true
   },
   "outputs": [
    {
     "name": "stdout",
     "output_type": "stream",
     "text": [
      "{Projection(IncidentAngle=0, Lens='Samyang75F35'): {'FocalLength_mm': 7.5, 'Projection': 'Equisolid', 'ProjectionFactor': 2.7, 'ImageProjectionMM': 0.0}}\n",
      "ANGLE: 0 PROJECTION 0.0 DRIFT: 0.0\n",
      "ANGLE: 10 PROJECTION 1.308085507880952 DRIFT: 1.308085507880952\n",
      "ANGLE: 20 PROJECTION 2.6107069979241895 DRIFT: 1.3026214900432376\n",
      "ANGLE: 30 PROJECTION 3.9024232760988156 DRIFT: 1.291716278174626\n",
      "ANGLE: 40 PROJECTION 5.177838700649997 DRIFT: 1.2754154245511815\n",
      "ANGLE: 50 PROJECTION 6.431625720291329 DRIFT: 1.253787019641332\n",
      "ANGLE: 60 PROJECTION 7.658547127975759 DRIFT: 1.2269214076844301\n",
      "ANGLE: 70 PROJECTION 8.853477937288663 DRIFT: 1.1949308093129032\n",
      "ANGLE: 80 PROJECTION 10.011426790082897 DRIFT: 1.1579488527942345\n",
      "ANGLE: 90 PROJECTION 11.127556805933821 DRIFT: 1.1161300158509242\n"
     ]
    }
   ],
   "source": [
    "lens = oc.LENS_SAMYANG75\n",
    "previous = 0\n",
    "print(o.get_fisheye_lens_projection(lens=lens,alpha=0,with_keys=True))\n",
    "for alpha in range(0,100,10):   \n",
    "    projection_r = o.get_fisheye_lens_projection(lens=lens,alpha=alpha,with_keys=False)[oc.IMAGE_PROJECTION]\n",
    "    drift = projection_r - previous\n",
    "    print(\"ANGLE:\",alpha,\"PROJECTION\",projection_r,\"DRIFT:\",drift)\n",
    "    previous = projection_r"
   ]
  },
  {
   "cell_type": "markdown",
   "metadata": {},
   "source": [
    "<a id=\"19\"></a>\n",
    "#### (19) Cropped Resolution\n",
    "```python \n",
    "get_cropped_resolution(megapixels=24,crop=0.5,with_keys=False)```\n",
    "Image size $R_c$ for cropped image with original pixel size $\\mathit{MP}$ and image crop factor $c$  \n",
    "$\n",
    "\\begin{align*}\n",
    "R_c = c^2 \\times \\mathit{MP}\n",
    "\\end{align*}\n",
    "$"
   ]
  },
  {
   "cell_type": "code",
   "execution_count": 63,
   "metadata": {},
   "outputs": [
    {
     "data": {
      "text/plain": [
       "{RESOLUTION_MP(Crop=0.5, NumberPixels_1=24): {'RESOLUTION_MP': 6.0}}"
      ]
     },
     "execution_count": 63,
     "metadata": {},
     "output_type": "execute_result"
    }
   ],
   "source": [
    "crop = 0.5\n",
    "o.get_cropped_resolution(megapixels=megapixels,crop=crop,with_keys=True)"
   ]
  },
  {
   "cell_type": "markdown",
   "metadata": {},
   "source": [
    "<a id=\"20\"></a>\n",
    "#### (20) Cropped Effective Focal Length\n",
    "```python \n",
    "get_crop_effective_focal_length(f=50,crop=0.5,with_keys=False)```\n",
    "If an image is cropped with factor $c$ with new cropped angle $\\alpha'$, what is the resulting effective focal length $f_{crop}$ (=focal length, that would result, if the reduced field of view would be projected on the complete senor) ?<br>\n",
    "Original relation for focal length with crop applied}:<br>\n",
    "$\n",
    "\\begin{align*}\n",
    "tan\\left( \\frac{\\alpha'}{2} \\right) &= \\frac{c \\cdot x}{2 f} \n",
    "\\ \\{x:d_S,w_S,h_S\\}; \\\\\n",
    "tan\\left( \\frac{\\alpha'}{2} \\right) &= \\frac{x}{2 f_{crop}} \\\\\n",
    "\\Rightarrow f_{crop} &= f / c\n",
    "\\end{align*}\n",
    "$"
   ]
  },
  {
   "cell_type": "code",
   "execution_count": 64,
   "metadata": {},
   "outputs": [
    {
     "data": {
      "text/plain": [
       "{CropFocalLength_mm(Crop=0.5, FocalLength_mm=50): {'CropFocalLengthEffexctiveAfterCrop_mm': 100.0}}"
      ]
     },
     "execution_count": 64,
     "metadata": {},
     "output_type": "execute_result"
    }
   ],
   "source": [
    "o.get_crop_effective_focal_length(f=f,crop=crop,with_keys=True)"
   ]
  },
  {
   "cell_type": "markdown",
   "metadata": {},
   "source": [
    "<a id=\"21\"></a>\n",
    "#### (21) Equivalent Sensor Specs\n",
    "```python \n",
    "get_equivalent_sensor_specs(f=50.,k=2,iso=100.,\n",
    "                            sensor=OpticsConstants.SENSOR_APSC,\n",
    "                            sensor_target=OpticsConstants.SENSOR_FF,\n",
    "                            with_keys=False)\n",
    "```\n",
    "Calculate sensor equivalent focal length, aperture and iso, when converting from a source sensor spec $S_{SRC}$ to a target sensor spec $S_{TRG}$. Main factor is relativ crop factor between target and source sensor specs (default target spec is full frame sensor) <br>\n",
    "$\n",
    "\\begin{align*}\n",
    "c_{rel} &= \\frac{d_{\\text{S_TRG}}}{d_{\\text{S_SRC}}}; \\\n",
    "k_{\\text{TRG}} = c_{rel} \\cdot k_{\\text{SRC}}; \\\n",
    "f_{\\text{TRG}} = c_{rel} \\cdot f_{\\text{SRC}}; \\\n",
    "\\mathit{ISO}_{\\text{TRG}} = c_{rel}^2 \\cdot \\mathit{ISO}_{\\text{SRC}} \\\n",
    "\\end{align*}\n",
    "$"
   ]
  },
  {
   "cell_type": "code",
   "execution_count": 65,
   "metadata": {},
   "outputs": [
    {
     "data": {
      "text/plain": [
       "{EquivalentLensSpec(ApertureNumber_1=4, FocalLength_mm=50, ISO=100, Sensor='APSC', SensorTarget='FF'): {'CropRelative': 1.5,\n",
       "  'ApertureNumber_1': 6.1,\n",
       "  'FocalLength_mm': 76.3,\n",
       "  'ISO': 232.6}}"
      ]
     },
     "execution_count": 65,
     "metadata": {},
     "output_type": "execute_result"
    }
   ],
   "source": [
    "source_sensor = oc.SENSOR_APSC\n",
    "target_sensor = oc.SENSOR_FF\n",
    "src_iso = 100\n",
    "o.get_equivalent_sensor_specs(f=f,k=k,iso=src_iso,\n",
    "                            sensor=source_sensor,\n",
    "                            sensor_target=target_sensor,\n",
    "                            with_keys=True)"
   ]
  },
  {
   "cell_type": "markdown",
   "metadata": {},
   "source": [
    "<a id=\"22\"></a>\n",
    "#### (22) Astro Photography Exposure Times and Star Speed on sensor \n",
    "```python \n",
    "get_astro_speed(f=50,k=2.8,\n",
    "                sensor_type=OpticsConstants.SENSOR_FF,\n",
    "                megapixels=24,\n",
    "                dimension=OpticsConstants.DIMENSION_WIDTH,\n",
    "                with_keys=False)```\n",
    "##### Traversal of Image Pixel through earth rotation\n",
    "Based on Earth rotation speed $\\omega_E$ (360°/day = 0,00416°/second) calculate the rate of speed a pixel sized star image would move across the sensor, given the focal length $f$, sensor dimension $\\{x:w,h,d\\}$ and number of pixels $p_x$ in a given direction. \n",
    "For this data, field of view $\\text{fov}$ and pixel $p_\\alpha$ per angle and sensor length per angle $l_\\alpha$ can be calculated.       From this the traversal speed of the pixel image on the sensor can be calculated in absolute length $v_l$ and given in pixels $v_p$.\n",
    "Absolute traversal given in pixels $P_\\tau$ and length $L_\\tau$ is given by multiplying this speed with exposure time $\\tau$:<br>\n",
    "$\n",
    "\\begin{align*}\n",
    "l_\\alpha &= \\frac{x}{\\text{fov}}; \\\n",
    "p_\\alpha = \\frac{p_x}{\\text{fov}}; \\\n",
    "v_l = \\omega_E \\cdot l_\\alpha; \\\n",
    "v_p = \\omega_E \\cdot p_\\alpha \\\\\n",
    "\\Rightarrow \\ & \\boxed{ L_\\tau = v_p \\cdot \\tau; \\ P_\\tau = v_l \\cdot \\tau \\ }\n",
    "\\end{align*}\n",
    "$"
   ]
  },
  {
   "cell_type": "markdown",
   "metadata": {},
   "source": [
    "#### T 500 rule and NPF rule for Astro Photography \n",
    "For rule of thumb calculation of maximum exposure time the 500T rule has established and can be adapted for non full frame sensors.\n",
    "The so called \"NPF rule\" has been out recently to get more concise results for digital sensors. \n",
    "The formula above will calculate exposure times for 500T and NPF rule for a given focal length $f_{FF}$ on full frame / $f_S$ for a given sensor with crop factor $c$. \n",
    "NPF formula will also take into account aperture number $k$ and sensor pixel pitch ${pp}$. \n",
    "Formula will also calculate the pixel trail of a pixel sized light source traversing over the sensor during exposure time:<br>\n",
    "$\n",
    "\\begin{align*}\n",
    "\\boxed{\\begin{matrix}\n",
    "\\tau_{500} = \\large\\frac{500}{f_{FF}} \\sim \\frac{500}{c \\cdot f_S} \\\\\n",
    "L_ \\mathit{\\tau_{500}} = v_p \\cdot \\tau_\\mathit{500} \\\\\n",
    "P_\\mathit{\\tau_{500}} = v_l \\cdot \\tau_\\mathit{500} \n",
    "\\end{matrix} }; \\\n",
    "\\boxed{\\begin{matrix}\n",
    "\\tau_\\mathit{NPS} = \\large\\frac{35 \\ \\times \\ k \\ + \\ 30 \\ \\times \\ \\mathit{pp}}{f} \\\\\n",
    "L_ \\mathit{\\tau_{NPS}} = v_p \\cdot \\tau_\\mathit{NPS} \\\\\n",
    "P_\\mathit{\\tau_{NPS}} = v_l \\cdot \\tau_\\mathit{NPS} \n",
    "\\end{matrix} }\n",
    "\\end{align*}\n",
    "$\n"
   ]
  },
  {
   "cell_type": "code",
   "execution_count": 66,
   "metadata": {
    "scrolled": false
   },
   "outputs": [
    {
     "data": {
      "text/plain": [
       "{AstroSpeed(ApertureNumber_1=4, Dimension='Width_mm', FocalLength_mm=50, NumberPixels_1=24, Sensor='FF'): {'Dimension': 'Width_mm',\n",
       "  'Length_mm': 36.0,\n",
       "  'Direction': 'DirectionHorizontal',\n",
       "  'NumberPixels_1': 6000,\n",
       "  'FieldOfView_deg': 39.597752709049864,\n",
       "  'SensorLength_MmPerDegree': 0.9091425027201704,\n",
       "  'Pixels_1PerDegree': 152.0,\n",
       "  'SensorLength_MmPerSecond': 0.0037880937613340433,\n",
       "  'Pixels_1PerSecond': 0.6333333333333333,\n",
       "  'Crop': 1.0,\n",
       "  'Astro_500_Rule_second': 10,\n",
       "  'Astro_500_Rule_length_mm': 0.03788093761334043,\n",
       "  'Astro_500_Rule_pixels_1': 6.333333333333333,\n",
       "  'PixelWidth_um': 6.0,\n",
       "  'Astro_NPF_Rule_second': 6.4,\n",
       "  'Astro_NPF_Rule_length_mm': 0.024243800072537878,\n",
       "  'Astro_NPF_Rule_pixels_1': 4.053333333333334}}"
      ]
     },
     "execution_count": 66,
     "metadata": {},
     "output_type": "execute_result"
    }
   ],
   "source": [
    "o.get_astro_speed(f=f,k=k,sensor_type=sensor_spec,megapixels=megapixels\n",
    "                  ,dimension=oc.DIMENSION_WIDTH,with_keys=True)"
   ]
  },
  {
   "cell_type": "markdown",
   "metadata": {},
   "source": [
    "<a id=\"23\"></a>\n",
    "#### (23) Tilt and Shift Photography\n",
    "##### Tilt\n",
    "Calculating inclination angle $\\Phi$ of Sharp Focus Plane $\\textit{SFP}$ for given inclination angle $\\alpha$ of lens plane. \n",
    "<br>Scheimpflug Condition is met, when Image Plane $\\textit{IP}$ conincides with Lens Plane $\\textit{LP}$ and Sharp Focus Plane $\\textit{SFP}$. \n",
    "<br>Following geometry parameters are used (cf. http://www.zen20934.zen.co.uk/photography/tiltshift.htm).\n",
    "* $\\textit{IP,LP,SFP}$: Image Plane, Lens Plane, Sharp Focus Plane\n",
    "* $\\alpha$ inclination angle of LP plane (lens tilt)\n",
    "* $J$ Lens axis to Pivot Point Distance below lens parallel to the image plane\n",
    "* $A$ Lens rear node to Image Plane separation normal to the image plane, <br>for non view cameras set $A \\approx f + \\delta$. $\\delta$ must be estimated, but it could also estimated <br>experimentally by taking photographs of elevated plane with scales, checking for maximum <br>sharpness, and determining from curve set for $\\Phi$\n",
    "* $\\Phi_\\textit{sf}$ Inclination angle of the plane of sharp focus\n",
    "* $\\beta_\\textit{sf}$ Plane elevation angle relative to horizontal level:\n",
    "$\\beta_\\textit{sf} = 90° - \\Phi_\\textit{sf} $\n",
    "* $k,f,\\textit{coc}$ Aperture value, focal length, circle of confusion \n",
    "* $\\{x_S:d_S,w_S,h_S\\}$ Sensor size for given direction and senspr specification \n",
    "* $\\Delta_x$ Lens Shift in given direction\n",
    "* $\\alpha_\\textit{up},\\alpha_\\textit{down},\\textit{fov}_\\textit{S,shift}$ Lens shift angles and field of view with given sensor direction \n",
    "* $D_\\textit{ZOF}$ Zone of focus width perpendicular to plane of sharp focus at a given focus distance $d$ from lens (see source code) \n",
    "<br>\n",
    "$\n",
    "\\begin{align*}\n",
    "J &= \\frac{f}{sin\\left(\\alpha\\right)};\\ \\\n",
    "\\Phi_\\textit{SF} = arctan\\left( \\frac{sin\\left(\\alpha\\right)}{cos\\left(\\alpha\\right)-\\frac{\\large f}{\\large A}}\\right)\n",
    "\\end{align*}\n",
    "$"
   ]
  },
  {
   "cell_type": "markdown",
   "metadata": {},
   "source": [
    "From Depth of field calculations Near Plane and Far Plane of acceptable focus $\\textit{NPAF, FPAF}$ <br>and cone angle of sharp focus $\\Phi$ can be calculated by:<br>\n",
    "$\n",
    "\\begin{align*}\n",
    "s &= \\frac{f}{\\textit{coc} \\cdot k}; \\ \\ \n",
    "A_\\textit{NP} = \\frac{A}{1-\\frac{1}{ \\large s}}; \\ \\\n",
    "A_\\textit{FP} = \\frac{A}{1+\\frac{1}{ \\large s}}; \\\\\n",
    "\\Phi_\\textit{NP} &= arctan\\left( \\frac{sin\\left(\\alpha\\right)}{cos\\left(\\alpha\\right)-\\frac{\\large f}{\\large A_\\textit{NP}}}\\right); \\ \\\n",
    "\\Phi_\\textit{FP} = arctan\\left( \\frac{sin\\left(\\alpha\\right)}{cos\\left(\\alpha\\right)-\\frac{\\large f}{\\large A_\\textit{FP}}}\\right); \\\\\n",
    "\\beta_\\textit{FP} &=90° - \\Phi_\\textit{FP}; \n",
    "\\beta_\\textit{NP} =90° - \\Phi_\\textit{NP} \n",
    "\\\\\n",
    "\\Phi &=\\Phi_\\textit{FP} - \\Phi_\\textit{NP}\n",
    "\\end{align*}\n",
    "$"
   ]
  },
  {
   "cell_type": "markdown",
   "metadata": {},
   "source": [
    "If $\\textit{coc}$ is not supplied it will be calculated from sensor specs "
   ]
  },
  {
   "cell_type": "code",
   "execution_count": 67,
   "metadata": {
    "scrolled": true
   },
   "outputs": [
    {
     "data": {
      "text/plain": [
       "{TiltParameters(ALPHA_LensTiltInclination_deg=3.0, A_TiltShiftLensRearNode2ImagePlane_mm=60.0, ApertureNumber_1=4.0, CircleOfConfusion_um=0.02884, Dimension='Width_mm', FocalLength_mm=50, FocusDistance=1, NumberPixels_1=24, Sensor='FF'): {'J_LensAxisPivotPointDistance_mm': 955.37,\n",
       "  'S_TiltShiftGeometryFactor_1': 433.43,\n",
       "  'A_TiltShiftLensRearNode2ImagePlaneNearPoint_mm': 60.14,\n",
       "  'A_TiltShiftLensRearNode2ImagePlaneFarPoint_mm': 59.86,\n",
       "  'A_TiltShiftLensRearNodeRearImageDifference_mm': 0.28,\n",
       "  'PHI_InclinationAngleSharpFocus_deg': 17.57,\n",
       "  'PHI_AcceptableAngleSharpFocusNear_deg': 17.38,\n",
       "  'PHI_AcceptableAngleSharpFocusFar_deg': 17.76,\n",
       "  'BETA_ElevationAngleSharpFocus_deg': 72.43,\n",
       "  'BETA_ElevationAngleSharpFocusNear_deg': 72.62,\n",
       "  'BETA_ElevationAngleSharpFocusFar_deg': 72.24,\n",
       "  'DELTA_PHI_AcceptableAngleSharpFocusFieldOfView_deg': 0.38,\n",
       "  'D_ZOF_FocusZoneWidthPerpendicular_m': 0.02}}"
      ]
     },
     "execution_count": 67,
     "metadata": {},
     "output_type": "execute_result"
    }
   ],
   "source": [
    "alpha = 3.\n",
    "f_tilt = 50\n",
    "k = 4.\n",
    "A = 1.2 * f_tilt\n",
    "megapixels = 24\n",
    "focus_distance = 1\n",
    "\n",
    "o.get_tilt_lens_params(alpha=alpha,f=f_tilt,k=k,A=A,sensor_type=oc.SENSOR_FF,\n",
    "                       megapixels=megapixels,dimension=oc.DIMENSION_WIDTH,\n",
    "                       coc=None,focus_distance=focus_distance,with_keys=True)"
   ]
  },
  {
   "cell_type": "markdown",
   "metadata": {},
   "source": [
    "##### Shift\n",
    "For shift lenses angles of view related to unshifted optical axis are:<br>\n",
    "(Note: for $\\Delta$=0 field of view formula is the same as for unshifted lens (02) ).<br>\n",
    "$\n",
    "\\begin{align*}\n",
    "\\alpha_\\textit{S,up} &= arctan\\left ( \\frac{x_S+2 \\cdot \\Delta_x}{2 \\cdot f} \\right ); \\ \\\n",
    "\\alpha_\\textit{S,down} = arctan\\left ( \\frac{x_S-2 \\cdot \\Delta_x}{2 \\cdot f} \\right ); \\\\\n",
    "\\textit{fov}_\\textit{S,shift} &= \\alpha_\\textit{up} + \\alpha_\\textit{down} \n",
    "\\end{align*}\n",
    "$"
   ]
  },
  {
   "cell_type": "markdown",
   "metadata": {},
   "source": [
    "Parameters returned:\n",
    "* Field Of View: Angle of Unshifted Lens\n",
    "* $\\alpha_\\textit{UP FOV},\\Delta_{\\alpha\\textit{UP FOV}}$: Upper Half Field Of View Shifted, Difference w.r.t. unshifted lens\n",
    "* $\\alpha_\\textit{DOWN FOV},\\Delta_{\\alpha\\textit{DOWN FOV}}$: Lower Half Field Of View Shifted, Difference w.r.t. unshifted lens\n",
    "* $\\alpha_\\textit{FOV}$: Field Of view shifted lens $\\alpha_\\textit{FOV}=\\alpha_\\textit{UP FOV}-\\alpha_\\textit{DOWN FOV}$\n",
    "* `Field of View gain`: Gain of field of view for a single shift compared to an unshifted lens\n",
    "* `Maximum Field of View`: Maximum field of view gained if two photos with $\\pm$ shift applied are stitched \n",
    "* `Equivalent Field of view` when shift is applied in two directions and photos are stitched\n",
    "* `Direction`: Sensor direction"
   ]
  },
  {
   "cell_type": "code",
   "execution_count": 68,
   "metadata": {
    "scrolled": true
   },
   "outputs": [
    {
     "data": {
      "text/plain": [
       "{ShiftParameters(Dimension='Width_mm', FocalLength_mm=35, NumberPixels_1=24.0, Sensor='FF', Shift_mm=10): {'Dimension': 36.0,\n",
       "  'FieldOfView_deg': 54.43,\n",
       "  'ALPHA_UP_FOV_ShiftLens_deg': 38.66,\n",
       "  'DELTA_ALPHA_UP_FOV_ShiftLens_deg': 11.44,\n",
       "  'ALPHA_DOWN_FOV_ShiftLens_deg': -12.88,\n",
       "  'DELTA_ALPHA_DOWN_FOV_ShiftLens_deg': -14.34,\n",
       "  'ALPHA_FieldOfView_ShiftLens_deg': 51.53,\n",
       "  'ALPHA_Shiftlens_FieldOfVieGain_deg': 11.44,\n",
       "  'Shiftlens_MaximumFieldOfView_deg': 74.42,\n",
       "  'Shiftlens_ShiftedEquivalentFocalLength_mm': 23.7,\n",
       "  'Direction': 'DirectionHorizontal'}}"
      ]
     },
     "execution_count": 68,
     "metadata": {},
     "output_type": "execute_result"
    }
   ],
   "source": [
    "o.get_shift_lens_params(f=35,shift=10,sensor_type=oc.SENSOR_FF,\n",
    "                         dimension=oc.DIMENSION_WIDTH,megapixels=24.,with_keys=True)"
   ]
  },
  {
   "cell_type": "markdown",
   "metadata": {},
   "source": [
    "<a id=\"24\"></a>\n",
    "#### (24) Scopes and Binoculars\n",
    "Calculates scope params (exit pupil,relative brightness,twilight factor). Camera parameters are used to calculate equivalent focal length and equivalent aperture for given camera sensor. Pupil eye is used as human eye pupil diameter and used for calculation of light collection factor (relative light collection factor of scope to human eye). Also additional magnitude is calculated (can be added to eye capabilities of 6.5 mag)"
   ]
  },
  {
   "cell_type": "code",
   "execution_count": 8,
   "metadata": {
    "scrolled": true
   },
   "outputs": [
    {
     "data": {
      "text/plain": [
       "{SCOPE_Parameters(Dimension='Width_mm', Magnification_1=25, NumberPixels_1=24, ObjectDistance=1000, SCOPE_PupilEye_mm=7, SCOPE_RealFieldOfView_mm=50, Sensor='FF'): {'SCOPE_ExitPupil_mm': 3.2,\n",
       "  'SCOPE_RelativeBrightness_mm2': 10.24,\n",
       "  'SCOPE_TwilightFactor_mm_1_2': 44.72,\n",
       "  'SCOPE_LightCollectionFactor_1': 130.61,\n",
       "  'SCOPE_Magnitude_1': 5.29,\n",
       "  'FieldOfView_deg': 2.0,\n",
       "  'EquivalentFocalLength_mm': 1031.22,\n",
       "  'ApertureNumber_1': 12.89,\n",
       "  'SCOPE_CoveredField_m': 34.91,\n",
       "  'Direction': 'DirectionHorizontal'}}"
      ]
     },
     "execution_count": 8,
     "metadata": {},
     "output_type": "execute_result"
    }
   ],
   "source": [
    "import importlib\n",
    "import optics\n",
    "from optics.optics_formulas import OpticsCalculator as o\n",
    "from optics.optics_formulas import OpticsConstants  as oc\n",
    "importlib.reload(optics.optics_formulas)\n",
    "m=25\n",
    "d=80\n",
    "r_fov=50\n",
    "distance = 1000\n",
    "o.get_scope_params(magnification=m,diameter=d,real_field_of_view=r_fov,\n",
    "                   sensor_type=oc.SENSOR_FF,dimension=oc.DIMENSION_WIDTH,\n",
    "                   megapixels=24,distance = distance,pupil_eye = 7,with_keys=True)"
   ]
  }
 ],
 "metadata": {
  "kernelspec": {
   "display_name": "Python 3",
   "language": "python",
   "name": "python3"
  },
  "language_info": {
   "codemirror_mode": {
    "name": "ipython",
    "version": 3
   },
   "file_extension": ".py",
   "mimetype": "text/x-python",
   "name": "python",
   "nbconvert_exporter": "python",
   "pygments_lexer": "ipython3",
   "version": "3.7.9"
  }
 },
 "nbformat": 4,
 "nbformat_minor": 2
}
