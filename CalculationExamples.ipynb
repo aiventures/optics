{
 "cells": [
  {
   "cell_type": "code",
   "execution_count": 1,
   "metadata": {
    "scrolled": true
   },
   "outputs": [
    {
     "name": "stdout",
     "output_type": "stream",
     "text": [
      "Sensor Type MFT / k: 2.8 / f: 12mm\n",
      "{'CircleOfConfusion_um': 14.43, 'NearPoint_m': 0.783, 'FarPoint_m': 1.384, 'HyperfocalDistance_m': 3.576, 'DepthOfField_m': 0.601}\n",
      "d;np;fp;dof;hf\n",
      "0.5;0.44;0.579;0.139;3.576\n",
      "1.0;0.783;1.384;0.601;3.576\n",
      "1.5;1.058;2.575;1.517;3.576\n",
      "2.0;1.284;4.523;3.239;3.576\n",
      "2.5;1.472;8.281;6.809;3.576\n",
      "3.0;1.632;18.562;16.93;3.576\n",
      "3.5;1.769;164.132;162.363;3.576\n",
      "4.0;1.888;inf;inf;3.576\n",
      "4.5;1.992;inf;inf;3.576\n",
      "5.0;2.084;inf;inf;3.576\n",
      "5.5;2.165;inf;inf;3.576\n",
      "6.0;2.239;inf;inf;3.576\n",
      "6.5;2.305;inf;inf;3.576\n",
      "7.0;2.364;inf;inf;3.576\n",
      "7.5;2.419;inf;inf;3.576\n",
      "8.0;2.468;inf;inf;3.576\n",
      "8.5;2.514;inf;inf;3.576\n",
      "9.0;2.555;inf;inf;3.576\n",
      "9.5;2.594;inf;inf;3.576\n",
      "10.0;2.63;inf;inf;3.576\n",
      "10.5;2.663;inf;inf;3.576\n",
      "11.0;2.694;inf;inf;3.576\n",
      "11.5;2.723;inf;inf;3.576\n",
      "12.0;2.75;inf;inf;3.576\n",
      "12.5;2.775;inf;inf;3.576\n",
      "13.0;2.799;inf;inf;3.576\n",
      "13.5;2.822;inf;inf;3.576\n",
      "14.0;2.843;inf;inf;3.576\n",
      "14.5;2.863;inf;inf;3.576\n"
     ]
    }
   ],
   "source": [
    "# all is contained in a constants class and a class containing static methods\n",
    "import importlib\n",
    "import optics\n",
    "from optics.optics_formulas import OpticsCalculator as o\n",
    "from optics.optics_formulas import OpticsConstants  as oc\n",
    "importlib.reload(optics.optics_formulas)\n",
    "#define a couple of constants used often here\n",
    "sensor_spec = oc.SENSOR_MFT # sensor spec\n",
    "megapixels = 20             # mega pixels\n",
    "k = 2.8                     # aperture\n",
    "f = 12                     # focal length [mm]\n",
    "#object distance and object height\n",
    "o_distance = 1 \n",
    "result = o.get_dof(f,k,sensor_type=sensor_spec,distance=o_distance,with_keys=False)\n",
    "print(f\"Sensor Type {sensor_spec} / k: {k} / f: {f}mm\")\n",
    "print(result)\n",
    "print(\"d;np;fp;dof;hf\")\n",
    "for x in range(1,30):\n",
    "    d = x * 0.5\n",
    "    result = o.get_dof(f,k,sensor_type=sensor_spec,distance=d,with_keys=False)\n",
    "    np = result[oc.NEAR_POINT]\n",
    "    fp = result[oc.FAR_POINT]\n",
    "    dof = result[oc.DEPTH_OF_FIELD]\n",
    "    hf = result[oc.HYPERFOCAL]\n",
    "    print(f\"{d};{np};{fp};{dof};{hf}\")"
   ]
  },
  {
   "cell_type": "code",
   "execution_count": 66,
   "metadata": {},
   "outputs": [
    {
     "name": "stdout",
     "output_type": "stream",
     "text": [
      "--- SENSOR: FF / Depth of Object: 1.0mm / 1 Turn on slider: 1200µm--- \n",
      "\n",
      "m;   k;    k_eff;  dof_um; slider_turn num_turns\n",
      "1.0;  2.8;  5.6;   323;     1/04;       03\n",
      "1.0;  4.0;  8.0;   461;     1/03;       02\n",
      "1.0;  5.7; 11.4;   658;     1/02;       01\n",
      "1.0;  8.1; 16.2;   934;     1/01;       01\n",
      "2.0;  2.8;  8.4;   121;     1/10;       08\n",
      "2.0;  4.0; 12.0;   173;     1/07;       05\n",
      "2.0;  5.7; 17.1;   247;     1/05;       04\n",
      "2.0;  8.1; 24.3;   350;     1/03;       02\n",
      "3.0;  2.8; 11.2;    72;     1/17;       13\n",
      "3.0;  4.0; 16.0;   103;     1/12;       09\n",
      "3.0;  5.7; 22.8;   146;     1/08;       06\n",
      "3.0;  8.1; 32.4;   208;     1/06;       04\n",
      "4.0;  2.8; 14.0;    50;     1/24;       20\n",
      "4.0;  4.0; 20.0;    72;     1/17;       13\n",
      "4.0;  5.7; 28.5;   103;     1/12;       09\n",
      "4.0;  8.1; 40.5;   146;     1/08;       06\n",
      "5.0;  2.8; 16.8;    39;     1/31;       25\n",
      "5.0;  4.0; 24.0;    55;     1/22;       18\n",
      "5.0;  5.7; 34.2;    79;     1/15;       12\n",
      "5.0;  8.1; 48.6;   112;     1/11;       08\n"
     ]
    }
   ],
   "source": [
    "# macros slider: 1 Turn = 1,2mm\n",
    "slider_turn = 1200\n",
    "# macro and macro slider\n",
    "s = oc.SENSOR_FF # sensor type\n",
    "do = 1.\n",
    "m = 1 # magnification\n",
    "print(f\"--- SENSOR: {s} / Depth of Object: {do}mm / 1 Turn on slider: {slider_turn}µm--- \\n\")\n",
    "2**(0.5)\n",
    "print(\"m;   k;    k_eff;  dof_um; slider_turn num_turns\")\n",
    "for j in range(5):    \n",
    "    k = 2.8 # aperture_num    \n",
    "    for i in range(4):    \n",
    "        dof_dict = o.get_dof_macro(k,m,sensor_type=s,with_keys=False)\n",
    "        k_eff = dof_dict[oc.EFFECTIVE_APERTURE]\n",
    "        dof = round(1000*dof_dict[oc.DEPTH_OF_FIELD_MACRO])\n",
    "        # knob turns on macro slider\n",
    "        turn = round(1/(dof / slider_turn))\n",
    "        num_turns = int((do*1000) / dof)\n",
    "        #print(k)\n",
    "        print(f\"{m:3.1f}; {k:4.1f}; {k_eff:4.1f}; {dof:5};     1/{turn:02};       {num_turns:02d}\")\n",
    "        k = round(k*2**0.5,1)\n",
    "    m += 1\n",
    "\n"
   ]
  }
 ],
 "metadata": {
  "kernelspec": {
   "display_name": "Python 3",
   "language": "python",
   "name": "python3"
  },
  "language_info": {
   "codemirror_mode": {
    "name": "ipython",
    "version": 3
   },
   "file_extension": ".py",
   "mimetype": "text/x-python",
   "name": "python",
   "nbconvert_exporter": "python",
   "pygments_lexer": "ipython3",
   "version": "3.7.9"
  }
 },
 "nbformat": 4,
 "nbformat_minor": 2
}
